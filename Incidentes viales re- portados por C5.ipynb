{
 "cells": [
  {
   "cell_type": "code",
   "execution_count": 1,
   "id": "03179c21",
   "metadata": {},
   "outputs": [
    {
     "data": {
      "text/plain": [
       "'C:\\\\Users\\\\polla\\\\Desktop\\\\computo cognitivo'"
      ]
     },
     "execution_count": 1,
     "metadata": {},
     "output_type": "execute_result"
    }
   ],
   "source": [
    "pwd"
   ]
  },
  {
   "cell_type": "code",
   "execution_count": 3,
   "id": "efd80b74",
   "metadata": {},
   "outputs": [],
   "source": [
    "import pandas as pd\n",
    "import numpy as np\n",
    "\n",
    "\n",
    "\n",
    "\n",
    "\n",
    "\n",
    "\n",
    "\n",
    "df=pd.read_csv('C:/Users/polla/Desktop/computo cognitivo/Bases de datos/incidentes_viales_c5.csv')"
   ]
  },
  {
   "cell_type": "code",
   "execution_count": 4,
   "id": "0ab5d851",
   "metadata": {},
   "outputs": [
    {
     "data": {
      "text/html": [
       "<div>\n",
       "<style scoped>\n",
       "    .dataframe tbody tr th:only-of-type {\n",
       "        vertical-align: middle;\n",
       "    }\n",
       "\n",
       "    .dataframe tbody tr th {\n",
       "        vertical-align: top;\n",
       "    }\n",
       "\n",
       "    .dataframe thead th {\n",
       "        text-align: right;\n",
       "    }\n",
       "</style>\n",
       "<table border=\"1\" class=\"dataframe\">\n",
       "  <thead>\n",
       "    <tr style=\"text-align: right;\">\n",
       "      <th></th>\n",
       "      <th>Unnamed: 0</th>\n",
       "      <th>folio</th>\n",
       "      <th>fecha_creacion</th>\n",
       "      <th>hora_creacion</th>\n",
       "      <th>dia_semana</th>\n",
       "      <th>codigo_cierre</th>\n",
       "      <th>fecha_cierre</th>\n",
       "      <th>ano_cierre</th>\n",
       "      <th>mes_cierre</th>\n",
       "      <th>hora_cierre</th>\n",
       "      <th>delegacion_inicio</th>\n",
       "      <th>incidente_c4</th>\n",
       "      <th>latitud</th>\n",
       "      <th>longitud</th>\n",
       "      <th>clas_con_f_alarma</th>\n",
       "      <th>tipo_entrada</th>\n",
       "      <th>delegacion_cierre</th>\n",
       "    </tr>\n",
       "  </thead>\n",
       "  <tbody>\n",
       "    <tr>\n",
       "      <th>0</th>\n",
       "      <td>1</td>\n",
       "      <td>C5/190301/00531</td>\n",
       "      <td>NaN</td>\n",
       "      <td>1:32:21</td>\n",
       "      <td>Viernes</td>\n",
       "      <td>D</td>\n",
       "      <td>NaN</td>\n",
       "      <td>2019</td>\n",
       "      <td>Marzo</td>\n",
       "      <td>1:37:47</td>\n",
       "      <td>BENITO JUAREZ</td>\n",
       "      <td>accidente-choque con lesionados</td>\n",
       "      <td>19.38076</td>\n",
       "      <td>-99.18087</td>\n",
       "      <td>URGENCIAS MEDICAS</td>\n",
       "      <td>LLAMADA DEL 911</td>\n",
       "      <td>BENITO JUAREZ</td>\n",
       "    </tr>\n",
       "    <tr>\n",
       "      <th>1</th>\n",
       "      <td>2</td>\n",
       "      <td>C5/190301/03669</td>\n",
       "      <td>NaN</td>\n",
       "      <td>12:09:38</td>\n",
       "      <td>Viernes</td>\n",
       "      <td>N</td>\n",
       "      <td>NaN</td>\n",
       "      <td>2019</td>\n",
       "      <td>Marzo</td>\n",
       "      <td>13:27:46</td>\n",
       "      <td>VENUSTIANO CARRANZA</td>\n",
       "      <td>accidente-choque sin lesionados</td>\n",
       "      <td>19.41559</td>\n",
       "      <td>-99.12331</td>\n",
       "      <td>EMERGENCIA</td>\n",
       "      <td>LLAMADA DEL 911</td>\n",
       "      <td>VENUSTIANO CARRANZA</td>\n",
       "    </tr>\n",
       "    <tr>\n",
       "      <th>2</th>\n",
       "      <td>3</td>\n",
       "      <td>C5/190301/04309</td>\n",
       "      <td>NaN</td>\n",
       "      <td>13:42:49</td>\n",
       "      <td>Viernes</td>\n",
       "      <td>A</td>\n",
       "      <td>NaN</td>\n",
       "      <td>2019</td>\n",
       "      <td>Marzo</td>\n",
       "      <td>14:31:03</td>\n",
       "      <td>VENUSTIANO CARRANZA</td>\n",
       "      <td>accidente-choque con lesionados</td>\n",
       "      <td>19.44807</td>\n",
       "      <td>-99.12128</td>\n",
       "      <td>URGENCIAS MEDICAS</td>\n",
       "      <td>LLAMADA DEL 911</td>\n",
       "      <td>VENUSTIANO CARRANZA</td>\n",
       "    </tr>\n",
       "    <tr>\n",
       "      <th>3</th>\n",
       "      <td>4</td>\n",
       "      <td>C5/190301/04781</td>\n",
       "      <td>NaN</td>\n",
       "      <td>14:54:41</td>\n",
       "      <td>Viernes</td>\n",
       "      <td>D</td>\n",
       "      <td>NaN</td>\n",
       "      <td>2019</td>\n",
       "      <td>Marzo</td>\n",
       "      <td>15:00:13</td>\n",
       "      <td>IZTAPALAPA</td>\n",
       "      <td>accidente-choque con lesionados</td>\n",
       "      <td>19.36689</td>\n",
       "      <td>-99.07233</td>\n",
       "      <td>URGENCIAS MEDICAS</td>\n",
       "      <td>LLAMADA DEL 911</td>\n",
       "      <td>IZTAPALAPA</td>\n",
       "    </tr>\n",
       "    <tr>\n",
       "      <th>4</th>\n",
       "      <td>5</td>\n",
       "      <td>C5/190301/06138</td>\n",
       "      <td>NaN</td>\n",
       "      <td>17:26:15</td>\n",
       "      <td>Viernes</td>\n",
       "      <td>N</td>\n",
       "      <td>NaN</td>\n",
       "      <td>2019</td>\n",
       "      <td>Marzo</td>\n",
       "      <td>18:04:07</td>\n",
       "      <td>BENITO JUAREZ</td>\n",
       "      <td>accidente-choque sin lesionados</td>\n",
       "      <td>19.40118</td>\n",
       "      <td>-99.1611</td>\n",
       "      <td>EMERGENCIA</td>\n",
       "      <td>LLAMADA DEL 911</td>\n",
       "      <td>BENITO JUAREZ</td>\n",
       "    </tr>\n",
       "  </tbody>\n",
       "</table>\n",
       "</div>"
      ],
      "text/plain": [
       "   Unnamed: 0            folio fecha_creacion hora_creacion dia_semana  \\\n",
       "0           1  C5/190301/00531            NaN       1:32:21    Viernes   \n",
       "1           2  C5/190301/03669            NaN      12:09:38    Viernes   \n",
       "2           3  C5/190301/04309            NaN      13:42:49    Viernes   \n",
       "3           4  C5/190301/04781            NaN      14:54:41    Viernes   \n",
       "4           5  C5/190301/06138            NaN      17:26:15    Viernes   \n",
       "\n",
       "  codigo_cierre  fecha_cierre ano_cierre mes_cierre hora_cierre  \\\n",
       "0             D           NaN       2019      Marzo     1:37:47   \n",
       "1             N           NaN       2019      Marzo    13:27:46   \n",
       "2             A           NaN       2019      Marzo    14:31:03   \n",
       "3             D           NaN       2019      Marzo    15:00:13   \n",
       "4             N           NaN       2019      Marzo    18:04:07   \n",
       "\n",
       "     delegacion_inicio                     incidente_c4   latitud  longitud  \\\n",
       "0        BENITO JUAREZ  accidente-choque con lesionados  19.38076 -99.18087   \n",
       "1  VENUSTIANO CARRANZA  accidente-choque sin lesionados  19.41559 -99.12331   \n",
       "2  VENUSTIANO CARRANZA  accidente-choque con lesionados  19.44807 -99.12128   \n",
       "3           IZTAPALAPA  accidente-choque con lesionados  19.36689 -99.07233   \n",
       "4        BENITO JUAREZ  accidente-choque sin lesionados  19.40118  -99.1611   \n",
       "\n",
       "   clas_con_f_alarma     tipo_entrada    delegacion_cierre  \n",
       "0  URGENCIAS MEDICAS  LLAMADA DEL 911        BENITO JUAREZ  \n",
       "1         EMERGENCIA  LLAMADA DEL 911  VENUSTIANO CARRANZA  \n",
       "2  URGENCIAS MEDICAS  LLAMADA DEL 911  VENUSTIANO CARRANZA  \n",
       "3  URGENCIAS MEDICAS  LLAMADA DEL 911           IZTAPALAPA  \n",
       "4         EMERGENCIA  LLAMADA DEL 911        BENITO JUAREZ  "
      ]
     },
     "execution_count": 4,
     "metadata": {},
     "output_type": "execute_result"
    }
   ],
   "source": [
    "df.head(5)"
   ]
  },
  {
   "cell_type": "code",
   "execution_count": 5,
   "id": "4a01cd3b",
   "metadata": {},
   "outputs": [
    {
     "data": {
      "text/plain": [
       "(1552442, 17)"
      ]
     },
     "execution_count": 5,
     "metadata": {},
     "output_type": "execute_result"
    }
   ],
   "source": [
    "df.shape"
   ]
  },
  {
   "cell_type": "code",
   "execution_count": 6,
   "id": "be00b749",
   "metadata": {},
   "outputs": [
    {
     "data": {
      "text/plain": [
       "Index(['Unnamed: 0', 'folio', 'fecha_creacion', 'hora_creacion', 'dia_semana',\n",
       "       'codigo_cierre', 'fecha_cierre', 'ano_cierre', 'mes_cierre',\n",
       "       'hora_cierre', 'delegacion_inicio', 'incidente_c4', 'latitud',\n",
       "       'longitud', 'clas_con_f_alarma', 'tipo_entrada', 'delegacion_cierre'],\n",
       "      dtype='object')"
      ]
     },
     "execution_count": 6,
     "metadata": {},
     "output_type": "execute_result"
    }
   ],
   "source": [
    "df.columns"
   ]
  },
  {
   "cell_type": "code",
   "execution_count": 7,
   "id": "164ca478",
   "metadata": {},
   "outputs": [
    {
     "data": {
      "text/plain": [
       "Unnamed: 0             int64\n",
       "folio                 object\n",
       "fecha_creacion        object\n",
       "hora_creacion         object\n",
       "dia_semana            object\n",
       "codigo_cierre         object\n",
       "fecha_cierre         float64\n",
       "ano_cierre            object\n",
       "mes_cierre            object\n",
       "hora_cierre           object\n",
       "delegacion_inicio     object\n",
       "incidente_c4          object\n",
       "latitud               object\n",
       "longitud              object\n",
       "clas_con_f_alarma     object\n",
       "tipo_entrada          object\n",
       "delegacion_cierre     object\n",
       "dtype: object"
      ]
     },
     "execution_count": 7,
     "metadata": {},
     "output_type": "execute_result"
    }
   ],
   "source": [
    "df.dtypes"
   ]
  },
  {
   "cell_type": "markdown",
   "id": "4f411b22",
   "metadata": {},
   "source": [
    "# (a) ¿Cual es la alcaldia con mas eventos?\n",
    "                    \n"
   ]
  },
  {
   "cell_type": "code",
   "execution_count": 8,
   "id": "9e2907d4",
   "metadata": {},
   "outputs": [
    {
     "data": {
      "text/plain": [
       "array(['accidente-choque con lesionados',\n",
       "       'accidente-choque sin lesionados', 'lesionado-atropellado',\n",
       "       'accidente-volcadura',\n",
       "       'accidente-persona atrapada / desbarrancada',\n",
       "       'accidente-motociclista', 'accidente-otros',\n",
       "       'accidente-vehiculo desbarrancado',\n",
       "       'accidente-choque con prensados',\n",
       "       'cadáver-accidente automovilístico',\n",
       "       'detención ciudadana-atropellado', 'accidente-vehiculo atrapado',\n",
       "       'cadáver-atropellado', 'accidente-ferroviario',\n",
       "       'detención ciudadana-accidente automovilístico',\n",
       "       'Detención ciudadana-accidente automovilístico',\n",
       "       'lesionado-accidente automovilístico',\n",
       "       'sismo-choque sin lesionados', 'sismo-choque con lesionados',\n",
       "       'sismo-persona atropellada', 'sismo-choque con prensados',\n",
       "       'accidente-ciclista', 'accidente-vehículo atrapado-varado',\n",
       "       'accidente-monopatín', 'mi ciudad-calle-incidente de tránsito',\n",
       "       'mi ciudad-taxi-incidente de tránsito', 'N', 'A', 'D', 'F', 'I'],\n",
       "      dtype=object)"
      ]
     },
     "execution_count": 8,
     "metadata": {},
     "output_type": "execute_result"
    }
   ],
   "source": [
    "#nombre de delitos\n",
    "df.incidente_c4.unique()"
   ]
  },
  {
   "cell_type": "code",
   "execution_count": 9,
   "id": "de16c495",
   "metadata": {},
   "outputs": [],
   "source": [
    "df_delegacion=df.delegacion_cierre.unique()\n"
   ]
  },
  {
   "cell_type": "code",
   "execution_count": 10,
   "id": "6e23be73",
   "metadata": {},
   "outputs": [],
   "source": [
    "del_alc = df.groupby(['delegacion_cierre'],as_index=False).size().sort_values('size',ascending=False)"
   ]
  },
  {
   "cell_type": "code",
   "execution_count": 11,
   "id": "714bcafb",
   "metadata": {},
   "outputs": [
    {
     "data": {
      "text/html": [
       "<div>\n",
       "<style scoped>\n",
       "    .dataframe tbody tr th:only-of-type {\n",
       "        vertical-align: middle;\n",
       "    }\n",
       "\n",
       "    .dataframe tbody tr th {\n",
       "        vertical-align: top;\n",
       "    }\n",
       "\n",
       "    .dataframe thead th {\n",
       "        text-align: right;\n",
       "    }\n",
       "</style>\n",
       "<table border=\"1\" class=\"dataframe\">\n",
       "  <thead>\n",
       "    <tr style=\"text-align: right;\">\n",
       "      <th></th>\n",
       "      <th>delegacion_cierre</th>\n",
       "      <th>size</th>\n",
       "    </tr>\n",
       "  </thead>\n",
       "  <tbody>\n",
       "    <tr>\n",
       "      <th>16</th>\n",
       "      <td>IZTAPALAPA</td>\n",
       "      <td>235042</td>\n",
       "    </tr>\n",
       "    <tr>\n",
       "      <th>14</th>\n",
       "      <td>GUSTAVO A. MADERO</td>\n",
       "      <td>153447</td>\n",
       "    </tr>\n",
       "    <tr>\n",
       "      <th>13</th>\n",
       "      <td>CUAUHTEMOC</td>\n",
       "      <td>147021</td>\n",
       "    </tr>\n",
       "    <tr>\n",
       "      <th>18</th>\n",
       "      <td>MIGUEL HIDALGO</td>\n",
       "      <td>117080</td>\n",
       "    </tr>\n",
       "    <tr>\n",
       "      <th>11</th>\n",
       "      <td>COYOACAN</td>\n",
       "      <td>110740</td>\n",
       "    </tr>\n",
       "    <tr>\n",
       "      <th>8</th>\n",
       "      <td>ALVARO OBREGON</td>\n",
       "      <td>107815</td>\n",
       "    </tr>\n",
       "    <tr>\n",
       "      <th>10</th>\n",
       "      <td>BENITO JUAREZ</td>\n",
       "      <td>107222</td>\n",
       "    </tr>\n",
       "    <tr>\n",
       "      <th>21</th>\n",
       "      <td>TLALPAN</td>\n",
       "      <td>96569</td>\n",
       "    </tr>\n",
       "    <tr>\n",
       "      <th>22</th>\n",
       "      <td>VENUSTIANO CARRANZA</td>\n",
       "      <td>95873</td>\n",
       "    </tr>\n",
       "    <tr>\n",
       "      <th>9</th>\n",
       "      <td>AZCAPOTZALCO</td>\n",
       "      <td>62108</td>\n",
       "    </tr>\n",
       "    <tr>\n",
       "      <th>15</th>\n",
       "      <td>IZTACALCO</td>\n",
       "      <td>61935</td>\n",
       "    </tr>\n",
       "    <tr>\n",
       "      <th>23</th>\n",
       "      <td>XOCHIMILCO</td>\n",
       "      <td>53006</td>\n",
       "    </tr>\n",
       "    <tr>\n",
       "      <th>20</th>\n",
       "      <td>TLAHUAC</td>\n",
       "      <td>34795</td>\n",
       "    </tr>\n",
       "    <tr>\n",
       "      <th>12</th>\n",
       "      <td>CUAJIMALPA</td>\n",
       "      <td>27111</td>\n",
       "    </tr>\n",
       "    <tr>\n",
       "      <th>17</th>\n",
       "      <td>MAGDALENA CONTRERAS</td>\n",
       "      <td>20499</td>\n",
       "    </tr>\n",
       "    <tr>\n",
       "      <th>6</th>\n",
       "      <td>9</td>\n",
       "      <td>17349</td>\n",
       "    </tr>\n",
       "    <tr>\n",
       "      <th>2</th>\n",
       "      <td>5</td>\n",
       "      <td>17131</td>\n",
       "    </tr>\n",
       "    <tr>\n",
       "      <th>4</th>\n",
       "      <td>7</td>\n",
       "      <td>16634</td>\n",
       "    </tr>\n",
       "    <tr>\n",
       "      <th>3</th>\n",
       "      <td>6</td>\n",
       "      <td>16592</td>\n",
       "    </tr>\n",
       "    <tr>\n",
       "      <th>5</th>\n",
       "      <td>8</td>\n",
       "      <td>16256</td>\n",
       "    </tr>\n",
       "    <tr>\n",
       "      <th>1</th>\n",
       "      <td>4</td>\n",
       "      <td>14817</td>\n",
       "    </tr>\n",
       "    <tr>\n",
       "      <th>0</th>\n",
       "      <td>3</td>\n",
       "      <td>11871</td>\n",
       "    </tr>\n",
       "    <tr>\n",
       "      <th>19</th>\n",
       "      <td>MILPA ALTA</td>\n",
       "      <td>7512</td>\n",
       "    </tr>\n",
       "    <tr>\n",
       "      <th>7</th>\n",
       "      <td>3</td>\n",
       "      <td>3870</td>\n",
       "    </tr>\n",
       "  </tbody>\n",
       "</table>\n",
       "</div>"
      ],
      "text/plain": [
       "      delegacion_cierre    size\n",
       "16           IZTAPALAPA  235042\n",
       "14    GUSTAVO A. MADERO  153447\n",
       "13           CUAUHTEMOC  147021\n",
       "18       MIGUEL HIDALGO  117080\n",
       "11             COYOACAN  110740\n",
       "8        ALVARO OBREGON  107815\n",
       "10        BENITO JUAREZ  107222\n",
       "21              TLALPAN   96569\n",
       "22  VENUSTIANO CARRANZA   95873\n",
       "9          AZCAPOTZALCO   62108\n",
       "15            IZTACALCO   61935\n",
       "23           XOCHIMILCO   53006\n",
       "20              TLAHUAC   34795\n",
       "12           CUAJIMALPA   27111\n",
       "17  MAGDALENA CONTRERAS   20499\n",
       "6                     9   17349\n",
       "2                     5   17131\n",
       "4                     7   16634\n",
       "3                     6   16592\n",
       "5                     8   16256\n",
       "1                     4   14817\n",
       "0                     3   11871\n",
       "19           MILPA ALTA    7512\n",
       "7                     3    3870"
      ]
     },
     "execution_count": 11,
     "metadata": {},
     "output_type": "execute_result"
    }
   ],
   "source": [
    "del_alc.head(30)"
   ]
  },
  {
   "cell_type": "markdown",
   "id": "4e327d5f",
   "metadata": {},
   "source": [
    "## Podemos ver que en la alcaldia IZTAPALAPA es donde hay mas registros de accidentes detectados por la c5"
   ]
  },
  {
   "cell_type": "markdown",
   "id": "bf0a5c31",
   "metadata": {},
   "source": [
    " # (b)¿Cual es la alcaldia con mas accidentes de ciclistas?"
   ]
  },
  {
   "cell_type": "code",
   "execution_count": 12,
   "id": "bfa563fa",
   "metadata": {},
   "outputs": [
    {
     "data": {
      "text/plain": [
       "Index(['Unnamed: 0', 'folio', 'fecha_creacion', 'hora_creacion', 'dia_semana',\n",
       "       'codigo_cierre', 'fecha_cierre', 'ano_cierre', 'mes_cierre',\n",
       "       'hora_cierre', 'delegacion_inicio', 'incidente_c4', 'latitud',\n",
       "       'longitud', 'clas_con_f_alarma', 'tipo_entrada', 'delegacion_cierre'],\n",
       "      dtype='object')"
      ]
     },
     "execution_count": 12,
     "metadata": {},
     "output_type": "execute_result"
    }
   ],
   "source": [
    "df.columns"
   ]
  },
  {
   "cell_type": "code",
   "execution_count": 13,
   "id": "177bf3f4",
   "metadata": {},
   "outputs": [
    {
     "data": {
      "text/plain": [
       "array(['accidente-choque con lesionados',\n",
       "       'accidente-choque sin lesionados', 'lesionado-atropellado',\n",
       "       'accidente-volcadura',\n",
       "       'accidente-persona atrapada / desbarrancada',\n",
       "       'accidente-motociclista', 'accidente-otros',\n",
       "       'accidente-vehiculo desbarrancado',\n",
       "       'accidente-choque con prensados',\n",
       "       'cadáver-accidente automovilístico',\n",
       "       'detención ciudadana-atropellado', 'accidente-vehiculo atrapado',\n",
       "       'cadáver-atropellado', 'accidente-ferroviario',\n",
       "       'detención ciudadana-accidente automovilístico',\n",
       "       'Detención ciudadana-accidente automovilístico',\n",
       "       'lesionado-accidente automovilístico',\n",
       "       'sismo-choque sin lesionados', 'sismo-choque con lesionados',\n",
       "       'sismo-persona atropellada', 'sismo-choque con prensados',\n",
       "       'accidente-ciclista', 'accidente-vehículo atrapado-varado',\n",
       "       'accidente-monopatín', 'mi ciudad-calle-incidente de tránsito',\n",
       "       'mi ciudad-taxi-incidente de tránsito', 'N', 'A', 'D', 'F', 'I'],\n",
       "      dtype=object)"
      ]
     },
     "execution_count": 13,
     "metadata": {},
     "output_type": "execute_result"
    }
   ],
   "source": [
    "unicosdel=df['incidente_c4'].unique()\n",
    "unicosdel"
   ]
  },
  {
   "cell_type": "code",
   "execution_count": 14,
   "id": "095f167a",
   "metadata": {},
   "outputs": [
    {
     "data": {
      "text/plain": [
       "array(['BENITO JUAREZ', 'VENUSTIANO CARRANZA', 'IZTAPALAPA',\n",
       "       'ALVARO OBREGON', 'CUAUHTEMOC', 'MIGUEL HIDALGO',\n",
       "       'GUSTAVO A. MADERO', 'COYOACAN', 'TLALPAN', 'CUAJIMALPA',\n",
       "       'XOCHIMILCO', 'MILPA ALTA', 'AZCAPOTZALCO', 'IZTACALCO',\n",
       "       'MAGDALENA CONTRERAS', 'TLAHUAC', nan, '3', 3, 4, 5, 6, 7, 8, 9],\n",
       "      dtype=object)"
      ]
     },
     "execution_count": 14,
     "metadata": {},
     "output_type": "execute_result"
    }
   ],
   "source": [
    "delegacionc=df.delegacion_cierre.unique()\n",
    "delegacionc"
   ]
  },
  {
   "cell_type": "code",
   "execution_count": 15,
   "id": "cda2d570",
   "metadata": {},
   "outputs": [],
   "source": [
    "#meter en una variable datos a utilizar si no funciona lo que estoy haciendo ocuapr esto \n",
    "df1 = df[['ano_cierre','fecha_creacion','incidente_c4','delegacion_cierre','tipo_entrada','delegacion_inicio']]"
   ]
  },
  {
   "cell_type": "code",
   "execution_count": 16,
   "id": "93d9acda",
   "metadata": {},
   "outputs": [
    {
     "data": {
      "text/plain": [
       "3422"
      ]
     },
     "execution_count": 16,
     "metadata": {},
     "output_type": "execute_result"
    }
   ],
   "source": [
    "\n",
    "\n",
    "df5=df1.groupby('incidente_c4')['delegacion_cierre'].count()['accidente-ciclista']\n",
    "df5"
   ]
  },
  {
   "cell_type": "code",
   "execution_count": 18,
   "id": "40cfaa69",
   "metadata": {
    "scrolled": false
   },
   "outputs": [
    {
     "data": {
      "text/plain": [
       "delegacion_cierre\n",
       "3                        0\n",
       "4                        0\n",
       "5                        0\n",
       "6                        0\n",
       "7                        0\n",
       "8                        0\n",
       "9                        0\n",
       "3                        0\n",
       "ALVARO OBREGON         185\n",
       "AZCAPOTZALCO           155\n",
       "BENITO JUAREZ          300\n",
       "COYOACAN               273\n",
       "CUAJIMALPA              25\n",
       "CUAUHTEMOC             587\n",
       "GUSTAVO A. MADERO      323\n",
       "IZTACALCO              163\n",
       "IZTAPALAPA             406\n",
       "MAGDALENA CONTRERAS     60\n",
       "MIGUEL HIDALGO         308\n",
       "MILPA ALTA              29\n",
       "TLAHUAC                 89\n",
       "TLALPAN                197\n",
       "VENUSTIANO CARRANZA    165\n",
       "XOCHIMILCO             157\n",
       "Name: incidente_c4, dtype: int64"
      ]
     },
     "execution_count": 18,
     "metadata": {},
     "output_type": "execute_result"
    }
   ],
   "source": [
    "ciclistas= df1.groupby(['delegacion_cierre'])['incidente_c4'].apply(lambda x: x[x.str.contains('accidente-ciclista')].count())\n",
    "ciclistas\n"
   ]
  },
  {
   "cell_type": "markdown",
   "id": "858ca13c",
   "metadata": {},
   "source": [
    "# Podemos ver que en la alcaldia  CUAUHTEMOC son mas accidentes de ciclistas\n"
   ]
  },
  {
   "cell_type": "markdown",
   "id": "6d3c7c99",
   "metadata": {},
   "source": [
    "# c) ¿Que dıa de la semana se registran la mayor cantidad de incidentes?"
   ]
  },
  {
   "cell_type": "code",
   "execution_count": 19,
   "id": "76db8b48",
   "metadata": {},
   "outputs": [
    {
     "data": {
      "text/plain": [
       "Index(['Unnamed: 0', 'folio', 'fecha_creacion', 'hora_creacion', 'dia_semana',\n",
       "       'codigo_cierre', 'fecha_cierre', 'ano_cierre', 'mes_cierre',\n",
       "       'hora_cierre', 'delegacion_inicio', 'incidente_c4', 'latitud',\n",
       "       'longitud', 'clas_con_f_alarma', 'tipo_entrada', 'delegacion_cierre'],\n",
       "      dtype='object')"
      ]
     },
     "execution_count": 19,
     "metadata": {},
     "output_type": "execute_result"
    }
   ],
   "source": [
    "df.columns"
   ]
  },
  {
   "cell_type": "code",
   "execution_count": 20,
   "id": "5466af77",
   "metadata": {},
   "outputs": [
    {
     "data": {
      "text/html": [
       "<div>\n",
       "<style scoped>\n",
       "    .dataframe tbody tr th:only-of-type {\n",
       "        vertical-align: middle;\n",
       "    }\n",
       "\n",
       "    .dataframe tbody tr th {\n",
       "        vertical-align: top;\n",
       "    }\n",
       "\n",
       "    .dataframe thead th {\n",
       "        text-align: right;\n",
       "    }\n",
       "</style>\n",
       "<table border=\"1\" class=\"dataframe\">\n",
       "  <thead>\n",
       "    <tr style=\"text-align: right;\">\n",
       "      <th></th>\n",
       "      <th>Unnamed: 0</th>\n",
       "      <th>folio</th>\n",
       "      <th>fecha_creacion</th>\n",
       "      <th>hora_creacion</th>\n",
       "      <th>dia_semana</th>\n",
       "      <th>codigo_cierre</th>\n",
       "      <th>fecha_cierre</th>\n",
       "      <th>ano_cierre</th>\n",
       "      <th>mes_cierre</th>\n",
       "      <th>hora_cierre</th>\n",
       "      <th>delegacion_inicio</th>\n",
       "      <th>incidente_c4</th>\n",
       "      <th>latitud</th>\n",
       "      <th>longitud</th>\n",
       "      <th>clas_con_f_alarma</th>\n",
       "      <th>tipo_entrada</th>\n",
       "      <th>delegacion_cierre</th>\n",
       "    </tr>\n",
       "  </thead>\n",
       "  <tbody>\n",
       "    <tr>\n",
       "      <th>0</th>\n",
       "      <td>1</td>\n",
       "      <td>C5/190301/00531</td>\n",
       "      <td>NaN</td>\n",
       "      <td>1:32:21</td>\n",
       "      <td>Viernes</td>\n",
       "      <td>D</td>\n",
       "      <td>NaN</td>\n",
       "      <td>2019</td>\n",
       "      <td>Marzo</td>\n",
       "      <td>1:37:47</td>\n",
       "      <td>BENITO JUAREZ</td>\n",
       "      <td>accidente-choque con lesionados</td>\n",
       "      <td>19.38076</td>\n",
       "      <td>-99.18087</td>\n",
       "      <td>URGENCIAS MEDICAS</td>\n",
       "      <td>LLAMADA DEL 911</td>\n",
       "      <td>BENITO JUAREZ</td>\n",
       "    </tr>\n",
       "    <tr>\n",
       "      <th>1</th>\n",
       "      <td>2</td>\n",
       "      <td>C5/190301/03669</td>\n",
       "      <td>NaN</td>\n",
       "      <td>12:09:38</td>\n",
       "      <td>Viernes</td>\n",
       "      <td>N</td>\n",
       "      <td>NaN</td>\n",
       "      <td>2019</td>\n",
       "      <td>Marzo</td>\n",
       "      <td>13:27:46</td>\n",
       "      <td>VENUSTIANO CARRANZA</td>\n",
       "      <td>accidente-choque sin lesionados</td>\n",
       "      <td>19.41559</td>\n",
       "      <td>-99.12331</td>\n",
       "      <td>EMERGENCIA</td>\n",
       "      <td>LLAMADA DEL 911</td>\n",
       "      <td>VENUSTIANO CARRANZA</td>\n",
       "    </tr>\n",
       "    <tr>\n",
       "      <th>2</th>\n",
       "      <td>3</td>\n",
       "      <td>C5/190301/04309</td>\n",
       "      <td>NaN</td>\n",
       "      <td>13:42:49</td>\n",
       "      <td>Viernes</td>\n",
       "      <td>A</td>\n",
       "      <td>NaN</td>\n",
       "      <td>2019</td>\n",
       "      <td>Marzo</td>\n",
       "      <td>14:31:03</td>\n",
       "      <td>VENUSTIANO CARRANZA</td>\n",
       "      <td>accidente-choque con lesionados</td>\n",
       "      <td>19.44807</td>\n",
       "      <td>-99.12128</td>\n",
       "      <td>URGENCIAS MEDICAS</td>\n",
       "      <td>LLAMADA DEL 911</td>\n",
       "      <td>VENUSTIANO CARRANZA</td>\n",
       "    </tr>\n",
       "    <tr>\n",
       "      <th>3</th>\n",
       "      <td>4</td>\n",
       "      <td>C5/190301/04781</td>\n",
       "      <td>NaN</td>\n",
       "      <td>14:54:41</td>\n",
       "      <td>Viernes</td>\n",
       "      <td>D</td>\n",
       "      <td>NaN</td>\n",
       "      <td>2019</td>\n",
       "      <td>Marzo</td>\n",
       "      <td>15:00:13</td>\n",
       "      <td>IZTAPALAPA</td>\n",
       "      <td>accidente-choque con lesionados</td>\n",
       "      <td>19.36689</td>\n",
       "      <td>-99.07233</td>\n",
       "      <td>URGENCIAS MEDICAS</td>\n",
       "      <td>LLAMADA DEL 911</td>\n",
       "      <td>IZTAPALAPA</td>\n",
       "    </tr>\n",
       "    <tr>\n",
       "      <th>4</th>\n",
       "      <td>5</td>\n",
       "      <td>C5/190301/06138</td>\n",
       "      <td>NaN</td>\n",
       "      <td>17:26:15</td>\n",
       "      <td>Viernes</td>\n",
       "      <td>N</td>\n",
       "      <td>NaN</td>\n",
       "      <td>2019</td>\n",
       "      <td>Marzo</td>\n",
       "      <td>18:04:07</td>\n",
       "      <td>BENITO JUAREZ</td>\n",
       "      <td>accidente-choque sin lesionados</td>\n",
       "      <td>19.40118</td>\n",
       "      <td>-99.1611</td>\n",
       "      <td>EMERGENCIA</td>\n",
       "      <td>LLAMADA DEL 911</td>\n",
       "      <td>BENITO JUAREZ</td>\n",
       "    </tr>\n",
       "  </tbody>\n",
       "</table>\n",
       "</div>"
      ],
      "text/plain": [
       "   Unnamed: 0            folio fecha_creacion hora_creacion dia_semana  \\\n",
       "0           1  C5/190301/00531            NaN       1:32:21    Viernes   \n",
       "1           2  C5/190301/03669            NaN      12:09:38    Viernes   \n",
       "2           3  C5/190301/04309            NaN      13:42:49    Viernes   \n",
       "3           4  C5/190301/04781            NaN      14:54:41    Viernes   \n",
       "4           5  C5/190301/06138            NaN      17:26:15    Viernes   \n",
       "\n",
       "  codigo_cierre  fecha_cierre ano_cierre mes_cierre hora_cierre  \\\n",
       "0             D           NaN       2019      Marzo     1:37:47   \n",
       "1             N           NaN       2019      Marzo    13:27:46   \n",
       "2             A           NaN       2019      Marzo    14:31:03   \n",
       "3             D           NaN       2019      Marzo    15:00:13   \n",
       "4             N           NaN       2019      Marzo    18:04:07   \n",
       "\n",
       "     delegacion_inicio                     incidente_c4   latitud  longitud  \\\n",
       "0        BENITO JUAREZ  accidente-choque con lesionados  19.38076 -99.18087   \n",
       "1  VENUSTIANO CARRANZA  accidente-choque sin lesionados  19.41559 -99.12331   \n",
       "2  VENUSTIANO CARRANZA  accidente-choque con lesionados  19.44807 -99.12128   \n",
       "3           IZTAPALAPA  accidente-choque con lesionados  19.36689 -99.07233   \n",
       "4        BENITO JUAREZ  accidente-choque sin lesionados  19.40118  -99.1611   \n",
       "\n",
       "   clas_con_f_alarma     tipo_entrada    delegacion_cierre  \n",
       "0  URGENCIAS MEDICAS  LLAMADA DEL 911        BENITO JUAREZ  \n",
       "1         EMERGENCIA  LLAMADA DEL 911  VENUSTIANO CARRANZA  \n",
       "2  URGENCIAS MEDICAS  LLAMADA DEL 911  VENUSTIANO CARRANZA  \n",
       "3  URGENCIAS MEDICAS  LLAMADA DEL 911           IZTAPALAPA  \n",
       "4         EMERGENCIA  LLAMADA DEL 911        BENITO JUAREZ  "
      ]
     },
     "execution_count": 20,
     "metadata": {},
     "output_type": "execute_result"
    }
   ],
   "source": [
    "df.head()"
   ]
  },
  {
   "cell_type": "code",
   "execution_count": 21,
   "id": "27a10e50",
   "metadata": {},
   "outputs": [],
   "source": [
    "\n",
    "df2 = df[['dia_semana','fecha_creacion','incidente_c4','delegacion_cierre','tipo_entrada','delegacion_inicio']]"
   ]
  },
  {
   "cell_type": "code",
   "execution_count": 22,
   "id": "95d8a6c3",
   "metadata": {},
   "outputs": [
    {
     "data": {
      "text/html": [
       "<div>\n",
       "<style scoped>\n",
       "    .dataframe tbody tr th:only-of-type {\n",
       "        vertical-align: middle;\n",
       "    }\n",
       "\n",
       "    .dataframe tbody tr th {\n",
       "        vertical-align: top;\n",
       "    }\n",
       "\n",
       "    .dataframe thead th {\n",
       "        text-align: right;\n",
       "    }\n",
       "</style>\n",
       "<table border=\"1\" class=\"dataframe\">\n",
       "  <thead>\n",
       "    <tr style=\"text-align: right;\">\n",
       "      <th></th>\n",
       "      <th>dia_semana</th>\n",
       "      <th>size</th>\n",
       "    </tr>\n",
       "  </thead>\n",
       "  <tbody>\n",
       "    <tr>\n",
       "      <th>8</th>\n",
       "      <td>Viernes</td>\n",
       "      <td>256786</td>\n",
       "    </tr>\n",
       "    <tr>\n",
       "      <th>6</th>\n",
       "      <td>Sábado</td>\n",
       "      <td>223337</td>\n",
       "    </tr>\n",
       "    <tr>\n",
       "      <th>1</th>\n",
       "      <td>Jueves</td>\n",
       "      <td>220656</td>\n",
       "    </tr>\n",
       "    <tr>\n",
       "      <th>3</th>\n",
       "      <td>Martes</td>\n",
       "      <td>211141</td>\n",
       "    </tr>\n",
       "    <tr>\n",
       "      <th>2</th>\n",
       "      <td>Lunes</td>\n",
       "      <td>203942</td>\n",
       "    </tr>\n",
       "    <tr>\n",
       "      <th>4</th>\n",
       "      <td>Miércoles</td>\n",
       "      <td>201247</td>\n",
       "    </tr>\n",
       "    <tr>\n",
       "      <th>0</th>\n",
       "      <td>Domingo</td>\n",
       "      <td>200980</td>\n",
       "    </tr>\n",
       "    <tr>\n",
       "      <th>7</th>\n",
       "      <td>S�bado</td>\n",
       "      <td>19338</td>\n",
       "    </tr>\n",
       "    <tr>\n",
       "      <th>5</th>\n",
       "      <td>Mi�rcoles</td>\n",
       "      <td>15015</td>\n",
       "    </tr>\n",
       "  </tbody>\n",
       "</table>\n",
       "</div>"
      ],
      "text/plain": [
       "  dia_semana    size\n",
       "8    Viernes  256786\n",
       "6     Sábado  223337\n",
       "1     Jueves  220656\n",
       "3     Martes  211141\n",
       "2      Lunes  203942\n",
       "4  Miércoles  201247\n",
       "0    Domingo  200980\n",
       "7     S�bado   19338\n",
       "5  Mi�rcoles   15015"
      ]
     },
     "execution_count": 22,
     "metadata": {},
     "output_type": "execute_result"
    }
   ],
   "source": [
    "dias1 =df2.groupby(['dia_semana'],as_index=False).size().sort_values('size',ascending=False)\n",
    "dias1"
   ]
  },
  {
   "cell_type": "markdown",
   "id": "108a226c",
   "metadata": {},
   "source": [
    "# Podemos  ver que  los dias de la semana  donde mas delitos hay , son apartir del viernes "
   ]
  },
  {
   "cell_type": "markdown",
   "id": "c5c8220f",
   "metadata": {},
   "source": [
    "# (d) ¿A que hora del dıa se registran la mayor cantidad de incidentes?"
   ]
  },
  {
   "cell_type": "code",
   "execution_count": 23,
   "id": "81367910",
   "metadata": {},
   "outputs": [
    {
     "data": {
      "text/plain": [
       "Index(['Unnamed: 0', 'folio', 'fecha_creacion', 'hora_creacion', 'dia_semana',\n",
       "       'codigo_cierre', 'fecha_cierre', 'ano_cierre', 'mes_cierre',\n",
       "       'hora_cierre', 'delegacion_inicio', 'incidente_c4', 'latitud',\n",
       "       'longitud', 'clas_con_f_alarma', 'tipo_entrada', 'delegacion_cierre'],\n",
       "      dtype='object')"
      ]
     },
     "execution_count": 23,
     "metadata": {},
     "output_type": "execute_result"
    }
   ],
   "source": [
    "df.columns"
   ]
  },
  {
   "cell_type": "code",
   "execution_count": 24,
   "id": "4af8f294",
   "metadata": {},
   "outputs": [
    {
     "data": {
      "text/html": [
       "<div>\n",
       "<style scoped>\n",
       "    .dataframe tbody tr th:only-of-type {\n",
       "        vertical-align: middle;\n",
       "    }\n",
       "\n",
       "    .dataframe tbody tr th {\n",
       "        vertical-align: top;\n",
       "    }\n",
       "\n",
       "    .dataframe thead th {\n",
       "        text-align: right;\n",
       "    }\n",
       "</style>\n",
       "<table border=\"1\" class=\"dataframe\">\n",
       "  <thead>\n",
       "    <tr style=\"text-align: right;\">\n",
       "      <th></th>\n",
       "      <th>Unnamed: 0</th>\n",
       "      <th>folio</th>\n",
       "      <th>fecha_creacion</th>\n",
       "      <th>hora_creacion</th>\n",
       "      <th>dia_semana</th>\n",
       "      <th>codigo_cierre</th>\n",
       "      <th>fecha_cierre</th>\n",
       "      <th>ano_cierre</th>\n",
       "      <th>mes_cierre</th>\n",
       "      <th>hora_cierre</th>\n",
       "      <th>delegacion_inicio</th>\n",
       "      <th>incidente_c4</th>\n",
       "      <th>latitud</th>\n",
       "      <th>longitud</th>\n",
       "      <th>clas_con_f_alarma</th>\n",
       "      <th>tipo_entrada</th>\n",
       "      <th>delegacion_cierre</th>\n",
       "    </tr>\n",
       "  </thead>\n",
       "  <tbody>\n",
       "    <tr>\n",
       "      <th>0</th>\n",
       "      <td>1</td>\n",
       "      <td>C5/190301/00531</td>\n",
       "      <td>NaN</td>\n",
       "      <td>1:32:21</td>\n",
       "      <td>Viernes</td>\n",
       "      <td>D</td>\n",
       "      <td>NaN</td>\n",
       "      <td>2019</td>\n",
       "      <td>Marzo</td>\n",
       "      <td>1:37:47</td>\n",
       "      <td>BENITO JUAREZ</td>\n",
       "      <td>accidente-choque con lesionados</td>\n",
       "      <td>19.38076</td>\n",
       "      <td>-99.18087</td>\n",
       "      <td>URGENCIAS MEDICAS</td>\n",
       "      <td>LLAMADA DEL 911</td>\n",
       "      <td>BENITO JUAREZ</td>\n",
       "    </tr>\n",
       "    <tr>\n",
       "      <th>1</th>\n",
       "      <td>2</td>\n",
       "      <td>C5/190301/03669</td>\n",
       "      <td>NaN</td>\n",
       "      <td>12:09:38</td>\n",
       "      <td>Viernes</td>\n",
       "      <td>N</td>\n",
       "      <td>NaN</td>\n",
       "      <td>2019</td>\n",
       "      <td>Marzo</td>\n",
       "      <td>13:27:46</td>\n",
       "      <td>VENUSTIANO CARRANZA</td>\n",
       "      <td>accidente-choque sin lesionados</td>\n",
       "      <td>19.41559</td>\n",
       "      <td>-99.12331</td>\n",
       "      <td>EMERGENCIA</td>\n",
       "      <td>LLAMADA DEL 911</td>\n",
       "      <td>VENUSTIANO CARRANZA</td>\n",
       "    </tr>\n",
       "    <tr>\n",
       "      <th>2</th>\n",
       "      <td>3</td>\n",
       "      <td>C5/190301/04309</td>\n",
       "      <td>NaN</td>\n",
       "      <td>13:42:49</td>\n",
       "      <td>Viernes</td>\n",
       "      <td>A</td>\n",
       "      <td>NaN</td>\n",
       "      <td>2019</td>\n",
       "      <td>Marzo</td>\n",
       "      <td>14:31:03</td>\n",
       "      <td>VENUSTIANO CARRANZA</td>\n",
       "      <td>accidente-choque con lesionados</td>\n",
       "      <td>19.44807</td>\n",
       "      <td>-99.12128</td>\n",
       "      <td>URGENCIAS MEDICAS</td>\n",
       "      <td>LLAMADA DEL 911</td>\n",
       "      <td>VENUSTIANO CARRANZA</td>\n",
       "    </tr>\n",
       "    <tr>\n",
       "      <th>3</th>\n",
       "      <td>4</td>\n",
       "      <td>C5/190301/04781</td>\n",
       "      <td>NaN</td>\n",
       "      <td>14:54:41</td>\n",
       "      <td>Viernes</td>\n",
       "      <td>D</td>\n",
       "      <td>NaN</td>\n",
       "      <td>2019</td>\n",
       "      <td>Marzo</td>\n",
       "      <td>15:00:13</td>\n",
       "      <td>IZTAPALAPA</td>\n",
       "      <td>accidente-choque con lesionados</td>\n",
       "      <td>19.36689</td>\n",
       "      <td>-99.07233</td>\n",
       "      <td>URGENCIAS MEDICAS</td>\n",
       "      <td>LLAMADA DEL 911</td>\n",
       "      <td>IZTAPALAPA</td>\n",
       "    </tr>\n",
       "    <tr>\n",
       "      <th>4</th>\n",
       "      <td>5</td>\n",
       "      <td>C5/190301/06138</td>\n",
       "      <td>NaN</td>\n",
       "      <td>17:26:15</td>\n",
       "      <td>Viernes</td>\n",
       "      <td>N</td>\n",
       "      <td>NaN</td>\n",
       "      <td>2019</td>\n",
       "      <td>Marzo</td>\n",
       "      <td>18:04:07</td>\n",
       "      <td>BENITO JUAREZ</td>\n",
       "      <td>accidente-choque sin lesionados</td>\n",
       "      <td>19.40118</td>\n",
       "      <td>-99.1611</td>\n",
       "      <td>EMERGENCIA</td>\n",
       "      <td>LLAMADA DEL 911</td>\n",
       "      <td>BENITO JUAREZ</td>\n",
       "    </tr>\n",
       "  </tbody>\n",
       "</table>\n",
       "</div>"
      ],
      "text/plain": [
       "   Unnamed: 0            folio fecha_creacion hora_creacion dia_semana  \\\n",
       "0           1  C5/190301/00531            NaN       1:32:21    Viernes   \n",
       "1           2  C5/190301/03669            NaN      12:09:38    Viernes   \n",
       "2           3  C5/190301/04309            NaN      13:42:49    Viernes   \n",
       "3           4  C5/190301/04781            NaN      14:54:41    Viernes   \n",
       "4           5  C5/190301/06138            NaN      17:26:15    Viernes   \n",
       "\n",
       "  codigo_cierre  fecha_cierre ano_cierre mes_cierre hora_cierre  \\\n",
       "0             D           NaN       2019      Marzo     1:37:47   \n",
       "1             N           NaN       2019      Marzo    13:27:46   \n",
       "2             A           NaN       2019      Marzo    14:31:03   \n",
       "3             D           NaN       2019      Marzo    15:00:13   \n",
       "4             N           NaN       2019      Marzo    18:04:07   \n",
       "\n",
       "     delegacion_inicio                     incidente_c4   latitud  longitud  \\\n",
       "0        BENITO JUAREZ  accidente-choque con lesionados  19.38076 -99.18087   \n",
       "1  VENUSTIANO CARRANZA  accidente-choque sin lesionados  19.41559 -99.12331   \n",
       "2  VENUSTIANO CARRANZA  accidente-choque con lesionados  19.44807 -99.12128   \n",
       "3           IZTAPALAPA  accidente-choque con lesionados  19.36689 -99.07233   \n",
       "4        BENITO JUAREZ  accidente-choque sin lesionados  19.40118  -99.1611   \n",
       "\n",
       "   clas_con_f_alarma     tipo_entrada    delegacion_cierre  \n",
       "0  URGENCIAS MEDICAS  LLAMADA DEL 911        BENITO JUAREZ  \n",
       "1         EMERGENCIA  LLAMADA DEL 911  VENUSTIANO CARRANZA  \n",
       "2  URGENCIAS MEDICAS  LLAMADA DEL 911  VENUSTIANO CARRANZA  \n",
       "3  URGENCIAS MEDICAS  LLAMADA DEL 911           IZTAPALAPA  \n",
       "4         EMERGENCIA  LLAMADA DEL 911        BENITO JUAREZ  "
      ]
     },
     "execution_count": 24,
     "metadata": {},
     "output_type": "execute_result"
    }
   ],
   "source": [
    "df.head()"
   ]
  },
  {
   "cell_type": "code",
   "execution_count": 29,
   "id": "2ea00f96",
   "metadata": {},
   "outputs": [
    {
     "data": {
      "text/plain": [
       "array(['1:32:21', '12:09:38', '13:42:49', ..., '03:51:38', '02:02:28',\n",
       "       '04:55:35'], dtype=object)"
      ]
     },
     "execution_count": 29,
     "metadata": {},
     "output_type": "execute_result"
    }
   ],
   "source": [
    "uinicahora=df.hora_creacion.unique()"
   ]
  },
  {
   "cell_type": "code",
   "execution_count": 32,
   "id": "9c111f8f",
   "metadata": {},
   "outputs": [],
   "source": [
    "df2 = df[['hora_creacion','dia_semana','fecha_creacion','incidente_c4','delegacion_cierre','tipo_entrada','delegacion_inicio']]"
   ]
  },
  {
   "cell_type": "code",
   "execution_count": 48,
   "id": "ab7fb399",
   "metadata": {},
   "outputs": [
    {
     "data": {
      "text/html": [
       "<div>\n",
       "<style scoped>\n",
       "    .dataframe tbody tr th:only-of-type {\n",
       "        vertical-align: middle;\n",
       "    }\n",
       "\n",
       "    .dataframe tbody tr th {\n",
       "        vertical-align: top;\n",
       "    }\n",
       "\n",
       "    .dataframe thead th {\n",
       "        text-align: right;\n",
       "    }\n",
       "</style>\n",
       "<table border=\"1\" class=\"dataframe\">\n",
       "  <thead>\n",
       "    <tr style=\"text-align: right;\">\n",
       "      <th></th>\n",
       "      <th>hora_creacion</th>\n",
       "      <th>dia_semana</th>\n",
       "      <th>size</th>\n",
       "    </tr>\n",
       "  </thead>\n",
       "  <tbody>\n",
       "    <tr>\n",
       "      <th>454269</th>\n",
       "      <td>20:44:00</td>\n",
       "      <td>Viernes</td>\n",
       "      <td>26</td>\n",
       "    </tr>\n",
       "    <tr>\n",
       "      <th>357988</th>\n",
       "      <td>17:12:00</td>\n",
       "      <td>Jueves</td>\n",
       "      <td>22</td>\n",
       "    </tr>\n",
       "    <tr>\n",
       "      <th>479024</th>\n",
       "      <td>21:40:00</td>\n",
       "      <td>Jueves</td>\n",
       "      <td>22</td>\n",
       "    </tr>\n",
       "    <tr>\n",
       "      <th>460917</th>\n",
       "      <td>20:59:00</td>\n",
       "      <td>Jueves</td>\n",
       "      <td>21</td>\n",
       "    </tr>\n",
       "    <tr>\n",
       "      <th>448929</th>\n",
       "      <td>20:32:00</td>\n",
       "      <td>Viernes</td>\n",
       "      <td>21</td>\n",
       "    </tr>\n",
       "    <tr>\n",
       "      <th>...</th>\n",
       "      <td>...</td>\n",
       "      <td>...</td>\n",
       "      <td>...</td>\n",
       "    </tr>\n",
       "    <tr>\n",
       "      <th>188243</th>\n",
       "      <td>10:29:35</td>\n",
       "      <td>Sábado</td>\n",
       "      <td>1</td>\n",
       "    </tr>\n",
       "    <tr>\n",
       "      <th>188244</th>\n",
       "      <td>10:29:35</td>\n",
       "      <td>Viernes</td>\n",
       "      <td>1</td>\n",
       "    </tr>\n",
       "    <tr>\n",
       "      <th>188246</th>\n",
       "      <td>10:29:36</td>\n",
       "      <td>Jueves</td>\n",
       "      <td>1</td>\n",
       "    </tr>\n",
       "    <tr>\n",
       "      <th>188250</th>\n",
       "      <td>10:29:36</td>\n",
       "      <td>Sábado</td>\n",
       "      <td>1</td>\n",
       "    </tr>\n",
       "    <tr>\n",
       "      <th>556329</th>\n",
       "      <td>9:59:58</td>\n",
       "      <td>Viernes</td>\n",
       "      <td>1</td>\n",
       "    </tr>\n",
       "  </tbody>\n",
       "</table>\n",
       "<p>556330 rows × 3 columns</p>\n",
       "</div>"
      ],
      "text/plain": [
       "       hora_creacion dia_semana  size\n",
       "454269      20:44:00    Viernes    26\n",
       "357988      17:12:00     Jueves    22\n",
       "479024      21:40:00     Jueves    22\n",
       "460917      20:59:00     Jueves    21\n",
       "448929      20:32:00    Viernes    21\n",
       "...              ...        ...   ...\n",
       "188243      10:29:35     Sábado     1\n",
       "188244      10:29:35    Viernes     1\n",
       "188246      10:29:36     Jueves     1\n",
       "188250      10:29:36     Sábado     1\n",
       "556329       9:59:58    Viernes     1\n",
       "\n",
       "[556330 rows x 3 columns]"
      ]
     },
     "execution_count": 48,
     "metadata": {},
     "output_type": "execute_result"
    }
   ],
   "source": [
    "hora =df2.groupby(['hora_creacion','dia_semana'],as_index=False).size().sort_values('size',ascending=False)\n",
    "hora"
   ]
  },
  {
   "cell_type": "code",
   "execution_count": 50,
   "id": "bb62a5e5",
   "metadata": {},
   "outputs": [
    {
     "data": {
      "text/plain": [
       "hora_creacion    9:59:58\n",
       "dia_semana       Viernes\n",
       "size                  26\n",
       "dtype: object"
      ]
     },
     "execution_count": 50,
     "metadata": {},
     "output_type": "execute_result"
    }
   ],
   "source": [
    "hora.max()"
   ]
  },
  {
   "cell_type": "code",
   "execution_count": 52,
   "id": "0a535937",
   "metadata": {},
   "outputs": [
    {
     "data": {
      "text/html": [
       "<div>\n",
       "<style scoped>\n",
       "    .dataframe tbody tr th:only-of-type {\n",
       "        vertical-align: middle;\n",
       "    }\n",
       "\n",
       "    .dataframe tbody tr th {\n",
       "        vertical-align: top;\n",
       "    }\n",
       "\n",
       "    .dataframe thead th {\n",
       "        text-align: right;\n",
       "    }\n",
       "</style>\n",
       "<table border=\"1\" class=\"dataframe\">\n",
       "  <thead>\n",
       "    <tr style=\"text-align: right;\">\n",
       "      <th></th>\n",
       "      <th>hora_creacion</th>\n",
       "      <th>size</th>\n",
       "    </tr>\n",
       "  </thead>\n",
       "  <tbody>\n",
       "    <tr>\n",
       "      <th>80744</th>\n",
       "      <td>20:44:00</td>\n",
       "      <td>84</td>\n",
       "    </tr>\n",
       "    <tr>\n",
       "      <th>71316</th>\n",
       "      <td>18:38:00</td>\n",
       "      <td>78</td>\n",
       "    </tr>\n",
       "    <tr>\n",
       "      <th>73596</th>\n",
       "      <td>19:16:00</td>\n",
       "      <td>78</td>\n",
       "    </tr>\n",
       "    <tr>\n",
       "      <th>71856</th>\n",
       "      <td>18:47:00</td>\n",
       "      <td>78</td>\n",
       "    </tr>\n",
       "    <tr>\n",
       "      <th>74436</th>\n",
       "      <td>19:30:00</td>\n",
       "      <td>76</td>\n",
       "    </tr>\n",
       "    <tr>\n",
       "      <th>...</th>\n",
       "      <td>...</td>\n",
       "      <td>...</td>\n",
       "    </tr>\n",
       "    <tr>\n",
       "      <th>94845</th>\n",
       "      <td>3:35:38</td>\n",
       "      <td>1</td>\n",
       "    </tr>\n",
       "    <tr>\n",
       "      <th>94849</th>\n",
       "      <td>3:35:54</td>\n",
       "      <td>1</td>\n",
       "    </tr>\n",
       "    <tr>\n",
       "      <th>94851</th>\n",
       "      <td>3:36:01</td>\n",
       "      <td>1</td>\n",
       "    </tr>\n",
       "    <tr>\n",
       "      <th>94852</th>\n",
       "      <td>3:36:02</td>\n",
       "      <td>1</td>\n",
       "    </tr>\n",
       "    <tr>\n",
       "      <th>0</th>\n",
       "      <td>0.000138889</td>\n",
       "      <td>1</td>\n",
       "    </tr>\n",
       "  </tbody>\n",
       "</table>\n",
       "<p>106420 rows × 2 columns</p>\n",
       "</div>"
      ],
      "text/plain": [
       "      hora_creacion  size\n",
       "80744      20:44:00    84\n",
       "71316      18:38:00    78\n",
       "73596      19:16:00    78\n",
       "71856      18:47:00    78\n",
       "74436      19:30:00    76\n",
       "...             ...   ...\n",
       "94845       3:35:38     1\n",
       "94849       3:35:54     1\n",
       "94851       3:36:01     1\n",
       "94852       3:36:02     1\n",
       "0       0.000138889     1\n",
       "\n",
       "[106420 rows x 2 columns]"
      ]
     },
     "execution_count": 52,
     "metadata": {},
     "output_type": "execute_result"
    }
   ],
   "source": [
    "hora_semana=df2.groupby(['hora_creacion'],as_index=False).size().sort_values('size',ascending=False)\n",
    "hora_semana"
   ]
  },
  {
   "cell_type": "markdown",
   "id": "f9364f81",
   "metadata": {},
   "source": [
    "###### OBSERVAMOS QUE LA HORA CON MAS ACCIDENTES DE LA SEMANA ES  20:44:00 *Viernes* **CON 26 REGISTROS**"
   ]
  },
  {
   "cell_type": "code",
   "execution_count": null,
   "id": "a0495d43",
   "metadata": {},
   "outputs": [],
   "source": []
  }
 ],
 "metadata": {
  "kernelspec": {
   "display_name": "Python 3",
   "language": "python",
   "name": "python3"
  },
  "language_info": {
   "codemirror_mode": {
    "name": "ipython",
    "version": 3
   },
   "file_extension": ".py",
   "mimetype": "text/x-python",
   "name": "python",
   "nbconvert_exporter": "python",
   "pygments_lexer": "ipython3",
   "version": "3.8.8"
  }
 },
 "nbformat": 4,
 "nbformat_minor": 5
}
