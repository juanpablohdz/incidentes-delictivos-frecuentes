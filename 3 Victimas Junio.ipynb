{
 "cells": [
  {
   "cell_type": "code",
   "execution_count": 1,
   "id": "e2183548",
   "metadata": {},
   "outputs": [],
   "source": [
    "import pandas as pd\n",
    "import numpy as np\n",
    "\n",
    "\n",
    "\n",
    "df=pd.read_csv('C:/Users/polla/Desktop/computo cognitivo/Bases de datos/victimas_ss_junio2020.csv')"
   ]
  },
  {
   "cell_type": "code",
   "execution_count": 2,
   "id": "a1760300",
   "metadata": {},
   "outputs": [
    {
     "data": {
      "text/html": [
       "<div>\n",
       "<style scoped>\n",
       "    .dataframe tbody tr th:only-of-type {\n",
       "        vertical-align: middle;\n",
       "    }\n",
       "\n",
       "    .dataframe tbody tr th {\n",
       "        vertical-align: top;\n",
       "    }\n",
       "\n",
       "    .dataframe thead th {\n",
       "        text-align: right;\n",
       "    }\n",
       "</style>\n",
       "<table border=\"1\" class=\"dataframe\">\n",
       "  <thead>\n",
       "    <tr style=\"text-align: right;\">\n",
       "      <th></th>\n",
       "      <th>idCarpeta</th>\n",
       "      <th>Año_inicio</th>\n",
       "      <th>Mes_inicio</th>\n",
       "      <th>FechaInicio</th>\n",
       "      <th>Delito</th>\n",
       "      <th>Categoria</th>\n",
       "      <th>Sexo</th>\n",
       "      <th>Edad</th>\n",
       "      <th>TipoPersona</th>\n",
       "      <th>CalidadJuridica</th>\n",
       "      <th>...</th>\n",
       "      <th>Mes_hecho</th>\n",
       "      <th>FechaHecho</th>\n",
       "      <th>HoraHecho</th>\n",
       "      <th>HoraInicio</th>\n",
       "      <th>AlcaldiaHechos</th>\n",
       "      <th>ColoniaHechos</th>\n",
       "      <th>Calle_hechos</th>\n",
       "      <th>Calle_hechos2</th>\n",
       "      <th>latitud</th>\n",
       "      <th>longitud</th>\n",
       "    </tr>\n",
       "  </thead>\n",
       "  <tbody>\n",
       "    <tr>\n",
       "      <th>0</th>\n",
       "      <td>8324429</td>\n",
       "      <td>2019</td>\n",
       "      <td>Enero</td>\n",
       "      <td>04/01/2019</td>\n",
       "      <td>FRAUDE</td>\n",
       "      <td>DELITO DE BAJO IMPACTO</td>\n",
       "      <td>Masculino</td>\n",
       "      <td>62.0</td>\n",
       "      <td>FISICA</td>\n",
       "      <td>OFENDIDO</td>\n",
       "      <td>...</td>\n",
       "      <td>Agosto</td>\n",
       "      <td>29/08/2018</td>\n",
       "      <td>12:00:00</td>\n",
       "      <td>12:19:00</td>\n",
       "      <td>ALVARO OBREGON</td>\n",
       "      <td>GUADALUPE INN</td>\n",
       "      <td>INSUGENTES SUR</td>\n",
       "      <td>NaN</td>\n",
       "      <td>19.36125</td>\n",
       "      <td>-99.18314</td>\n",
       "    </tr>\n",
       "    <tr>\n",
       "      <th>1</th>\n",
       "      <td>8324430</td>\n",
       "      <td>2019</td>\n",
       "      <td>Enero</td>\n",
       "      <td>04/01/2019</td>\n",
       "      <td>PRODUCCIÓN, IMPRESIÓN, ENAJENACIÓN, DISTRIBUCI...</td>\n",
       "      <td>DELITO DE BAJO IMPACTO</td>\n",
       "      <td>Femenino</td>\n",
       "      <td>38.0</td>\n",
       "      <td>FISICA</td>\n",
       "      <td>VICTIMA Y DENUNCIANTE</td>\n",
       "      <td>...</td>\n",
       "      <td>Diciembre</td>\n",
       "      <td>15/12/2018</td>\n",
       "      <td>15:00:00</td>\n",
       "      <td>12:20:00</td>\n",
       "      <td>AZCAPOTZALCO</td>\n",
       "      <td>VICTORIA DE LAS DEMOCRACIAS</td>\n",
       "      <td>AV.  CUATLAHUAC</td>\n",
       "      <td>NaN</td>\n",
       "      <td>19.47181</td>\n",
       "      <td>-99.16458</td>\n",
       "    </tr>\n",
       "    <tr>\n",
       "      <th>2</th>\n",
       "      <td>8324431</td>\n",
       "      <td>2019</td>\n",
       "      <td>Enero</td>\n",
       "      <td>04/01/2019</td>\n",
       "      <td>ROBO A TRANSEUNTE SALIENDO DEL BANCO CON VIOLE...</td>\n",
       "      <td>ROBO A CUENTAHABIENTE SALIENDO DEL CAJERO CON ...</td>\n",
       "      <td>Masculino</td>\n",
       "      <td>42.0</td>\n",
       "      <td>FISICA</td>\n",
       "      <td>VICTIMA Y DENUNCIANTE</td>\n",
       "      <td>...</td>\n",
       "      <td>Diciembre</td>\n",
       "      <td>22/12/2018</td>\n",
       "      <td>15:30:00</td>\n",
       "      <td>12:23:00</td>\n",
       "      <td>COYOACAN</td>\n",
       "      <td>COPILCO UNIVERSIDAD ISSSTE</td>\n",
       "      <td>COPILCO</td>\n",
       "      <td>NaN</td>\n",
       "      <td>19.33797</td>\n",
       "      <td>-99.18611</td>\n",
       "    </tr>\n",
       "    <tr>\n",
       "      <th>3</th>\n",
       "      <td>8324435</td>\n",
       "      <td>2019</td>\n",
       "      <td>Enero</td>\n",
       "      <td>04/01/2019</td>\n",
       "      <td>ROBO DE VEHICULO DE SERVICIO PARTICULAR SIN VI...</td>\n",
       "      <td>ROBO DE VEHÍCULO CON Y SIN VIOLENCIA</td>\n",
       "      <td>Masculino</td>\n",
       "      <td>35.0</td>\n",
       "      <td>FISICA</td>\n",
       "      <td>VICTIMA Y DENUNCIANTE</td>\n",
       "      <td>...</td>\n",
       "      <td>Enero</td>\n",
       "      <td>04/01/2019</td>\n",
       "      <td>06:00:00</td>\n",
       "      <td>12:27:00</td>\n",
       "      <td>IZTACALCO</td>\n",
       "      <td>AGRÍCOLA PANTITLAN</td>\n",
       "      <td>CALLE 6</td>\n",
       "      <td>ENTRE PRIVADA DEL VALLE Y PRIVADA GONZALEZ</td>\n",
       "      <td>19.40327</td>\n",
       "      <td>-99.05983</td>\n",
       "    </tr>\n",
       "    <tr>\n",
       "      <th>4</th>\n",
       "      <td>8324438</td>\n",
       "      <td>2019</td>\n",
       "      <td>Enero</td>\n",
       "      <td>04/01/2019</td>\n",
       "      <td>ROBO DE MOTOCICLETA SIN VIOLENCIA</td>\n",
       "      <td>ROBO DE VEHÍCULO CON Y SIN VIOLENCIA</td>\n",
       "      <td>Masculino</td>\n",
       "      <td>NaN</td>\n",
       "      <td>FISICA</td>\n",
       "      <td>VICTIMA</td>\n",
       "      <td>...</td>\n",
       "      <td>Enero</td>\n",
       "      <td>03/01/2019</td>\n",
       "      <td>20:00:00</td>\n",
       "      <td>12:35:00</td>\n",
       "      <td>IZTAPALAPA</td>\n",
       "      <td>PROGRESISTA</td>\n",
       "      <td>UNIVERSIDAD</td>\n",
       "      <td>NaN</td>\n",
       "      <td>19.35480</td>\n",
       "      <td>-99.06324</td>\n",
       "    </tr>\n",
       "  </tbody>\n",
       "</table>\n",
       "<p>5 rows × 22 columns</p>\n",
       "</div>"
      ],
      "text/plain": [
       "   idCarpeta  Año_inicio Mes_inicio FechaInicio  \\\n",
       "0    8324429        2019      Enero  04/01/2019   \n",
       "1    8324430        2019      Enero  04/01/2019   \n",
       "2    8324431        2019      Enero  04/01/2019   \n",
       "3    8324435        2019      Enero  04/01/2019   \n",
       "4    8324438        2019      Enero  04/01/2019   \n",
       "\n",
       "                                              Delito  \\\n",
       "0                                             FRAUDE   \n",
       "1  PRODUCCIÓN, IMPRESIÓN, ENAJENACIÓN, DISTRIBUCI...   \n",
       "2  ROBO A TRANSEUNTE SALIENDO DEL BANCO CON VIOLE...   \n",
       "3  ROBO DE VEHICULO DE SERVICIO PARTICULAR SIN VI...   \n",
       "4                  ROBO DE MOTOCICLETA SIN VIOLENCIA   \n",
       "\n",
       "                                           Categoria       Sexo  Edad  \\\n",
       "0                             DELITO DE BAJO IMPACTO  Masculino  62.0   \n",
       "1                             DELITO DE BAJO IMPACTO   Femenino  38.0   \n",
       "2  ROBO A CUENTAHABIENTE SALIENDO DEL CAJERO CON ...  Masculino  42.0   \n",
       "3               ROBO DE VEHÍCULO CON Y SIN VIOLENCIA  Masculino  35.0   \n",
       "4               ROBO DE VEHÍCULO CON Y SIN VIOLENCIA  Masculino   NaN   \n",
       "\n",
       "  TipoPersona        CalidadJuridica  ...  Mes_hecho  FechaHecho HoraHecho  \\\n",
       "0      FISICA               OFENDIDO  ...     Agosto  29/08/2018  12:00:00   \n",
       "1      FISICA  VICTIMA Y DENUNCIANTE  ...  Diciembre  15/12/2018  15:00:00   \n",
       "2      FISICA  VICTIMA Y DENUNCIANTE  ...  Diciembre  22/12/2018  15:30:00   \n",
       "3      FISICA  VICTIMA Y DENUNCIANTE  ...      Enero  04/01/2019  06:00:00   \n",
       "4      FISICA                VICTIMA  ...      Enero  03/01/2019  20:00:00   \n",
       "\n",
       "  HoraInicio  AlcaldiaHechos                ColoniaHechos     Calle_hechos  \\\n",
       "0   12:19:00  ALVARO OBREGON                GUADALUPE INN   INSUGENTES SUR   \n",
       "1   12:20:00    AZCAPOTZALCO  VICTORIA DE LAS DEMOCRACIAS  AV.  CUATLAHUAC   \n",
       "2   12:23:00        COYOACAN   COPILCO UNIVERSIDAD ISSSTE          COPILCO   \n",
       "3   12:27:00       IZTACALCO           AGRÍCOLA PANTITLAN          CALLE 6   \n",
       "4   12:35:00      IZTAPALAPA                  PROGRESISTA      UNIVERSIDAD   \n",
       "\n",
       "                                Calle_hechos2   latitud  longitud  \n",
       "0                                         NaN  19.36125 -99.18314  \n",
       "1                                         NaN  19.47181 -99.16458  \n",
       "2                                         NaN  19.33797 -99.18611  \n",
       "3  ENTRE PRIVADA DEL VALLE Y PRIVADA GONZALEZ  19.40327 -99.05983  \n",
       "4                                         NaN  19.35480 -99.06324  \n",
       "\n",
       "[5 rows x 22 columns]"
      ]
     },
     "execution_count": 2,
     "metadata": {},
     "output_type": "execute_result"
    }
   ],
   "source": [
    "df.head()"
   ]
  },
  {
   "cell_type": "code",
   "execution_count": 3,
   "id": "8b8b2836",
   "metadata": {},
   "outputs": [
    {
     "data": {
      "text/plain": [
       "(369739, 22)"
      ]
     },
     "execution_count": 3,
     "metadata": {},
     "output_type": "execute_result"
    }
   ],
   "source": [
    "df.shape # sin limpiar "
   ]
  },
  {
   "cell_type": "code",
   "execution_count": 4,
   "id": "df1ae4ec",
   "metadata": {},
   "outputs": [
    {
     "data": {
      "text/plain": [
       "Index(['idCarpeta', 'Año_inicio', 'Mes_inicio', 'FechaInicio', 'Delito',\n",
       "       'Categoria', 'Sexo', 'Edad', 'TipoPersona', 'CalidadJuridica',\n",
       "       'competencia', 'Año_hecho', 'Mes_hecho', 'FechaHecho', 'HoraHecho',\n",
       "       'HoraInicio', 'AlcaldiaHechos', 'ColoniaHechos', 'Calle_hechos',\n",
       "       'Calle_hechos2', 'latitud', 'longitud'],\n",
       "      dtype='object')"
      ]
     },
     "execution_count": 4,
     "metadata": {},
     "output_type": "execute_result"
    }
   ],
   "source": [
    "df.columns"
   ]
  },
  {
   "cell_type": "markdown",
   "id": "9f8f9f75",
   "metadata": {},
   "source": [
    "# A) ¿Que pruebas identificarıas para asegurar la calidad de estos datos? No es necesario hacerlas. Solo describe la prueba y que te dice cada una."
   ]
  },
  {
   "cell_type": "markdown",
   "id": "27f3d3de",
   "metadata": {},
   "source": [
    "*Limpieza de datos*"
   ]
  },
  {
   "cell_type": "code",
   "execution_count": 5,
   "id": "144ad78f",
   "metadata": {},
   "outputs": [],
   "source": [
    "df=df.dropna()"
   ]
  },
  {
   "cell_type": "markdown",
   "id": "0baf94d9",
   "metadata": {},
   "source": [
    "*Vizualizacion del archivo*"
   ]
  },
  {
   "cell_type": "code",
   "execution_count": 6,
   "id": "4f4132ff",
   "metadata": {},
   "outputs": [
    {
     "data": {
      "text/plain": [
       "Index(['idCarpeta', 'Año_inicio', 'Mes_inicio', 'FechaInicio', 'Delito',\n",
       "       'Categoria', 'Sexo', 'Edad', 'TipoPersona', 'CalidadJuridica',\n",
       "       'competencia', 'Año_hecho', 'Mes_hecho', 'FechaHecho', 'HoraHecho',\n",
       "       'HoraInicio', 'AlcaldiaHechos', 'ColoniaHechos', 'Calle_hechos',\n",
       "       'Calle_hechos2', 'latitud', 'longitud'],\n",
       "      dtype='object')"
      ]
     },
     "execution_count": 6,
     "metadata": {},
     "output_type": "execute_result"
    }
   ],
   "source": [
    "df.columns"
   ]
  },
  {
   "cell_type": "code",
   "execution_count": 7,
   "id": "f2fde16e",
   "metadata": {},
   "outputs": [
    {
     "data": {
      "text/plain": [
       "(88806, 22)"
      ]
     },
     "execution_count": 7,
     "metadata": {},
     "output_type": "execute_result"
    }
   ],
   "source": [
    "df.shape # limpieza \n"
   ]
  },
  {
   "cell_type": "markdown",
   "id": "e5064cfc",
   "metadata": {},
   "source": [
    "# PENDIENTE falta"
   ]
  },
  {
   "cell_type": "markdown",
   "id": "f8140abe",
   "metadata": {},
   "source": [
    "# DATOS\n",
    "- vizualizar datos cuantiativos y cualitativos "
   ]
  },
  {
   "cell_type": "markdown",
   "id": "9664dc6e",
   "metadata": {},
   "source": [
    "## MEDIAS DE TENDENCIA CENTRAL\n",
    "- media\n",
    "- cuartiles\n",
    "- mediana \n",
    "- moda\n",
    "- varianza\n",
    "- desviacion estandar \n",
    "- maximo \n",
    "- minimo "
   ]
  },
  {
   "cell_type": "markdown",
   "id": "82ed300c",
   "metadata": {},
   "source": [
    "# ESTADISTICOS \n",
    "- Regresion lineal/ logistica \n",
    "- teorema de Bayes \n",
    "- inferencia estadistica \n",
    "- t-estudent\n",
    "- binomial \n",
    "- algoritmica\n",
    "- pearson \n",
    "- exponencial \n",
    "- Hipotesis \n",
    "- Poisson \n"
   ]
  },
  {
   "cell_type": "markdown",
   "id": "1dd24f74",
   "metadata": {},
   "source": [
    "# (b) ¿Cuantos delitos registrados hay en la tabla? ¿Que rango de tiempo consideran los datos?"
   ]
  },
  {
   "cell_type": "code",
   "execution_count": 25,
   "id": "2080f50a",
   "metadata": {},
   "outputs": [
    {
     "data": {
      "text/plain": [
       "array(['ROBO DE VEHÍCULO CON Y SIN VIOLENCIA', 'VIOLACIÓN',\n",
       "       'DELITO DE BAJO IMPACTO',\n",
       "       'ROBO A PASAJERO A BORDO DE MICROBUS CON Y SIN VIOLENCIA',\n",
       "       'ROBO A PASAJERO A BORDO DEL METRO CON Y SIN VIOLENCIA',\n",
       "       'ROBO A TRANSEUNTE EN VÍA PÚBLICA CON Y SIN VIOLENCIA',\n",
       "       'ROBO A NEGOCIO CON VIOLENCIA',\n",
       "       'ROBO A CUENTAHABIENTE SALIENDO DEL CAJERO CON VIOLENCIA',\n",
       "       'HOMICIDIO DOLOSO', 'HECHO NO DELICTIVO',\n",
       "       'ROBO A PASAJERO A BORDO DE TAXI CON VIOLENCIA',\n",
       "       'ROBO A REPARTIDOR CON Y SIN VIOLENCIA',\n",
       "       'ROBO A CASA HABITACIÓN CON VIOLENCIA',\n",
       "       'LESIONES DOLOSAS POR DISPARO DE ARMA DE FUEGO', 'SECUESTRO',\n",
       "       'ROBO A TRANSPORTISTA CON Y SIN VIOLENCIA'], dtype=object)"
      ]
     },
     "execution_count": 25,
     "metadata": {},
     "output_type": "execute_result"
    }
   ],
   "source": [
    "delitos=df['Categoria'].unique()\n",
    "delitos"
   ]
  },
  {
   "cell_type": "code",
   "execution_count": 48,
   "id": "2b3a7a4a",
   "metadata": {},
   "outputs": [
    {
     "data": {
      "text/plain": [
       "array(['12:27:00', '12:48:00', '12:51:00', ..., '03:58:00', '04:56:00',\n",
       "       '06:49:00'], dtype=object)"
      ]
     },
     "execution_count": 48,
     "metadata": {},
     "output_type": "execute_result"
    }
   ],
   "source": [
    "hora=df['HoraInicio'].unique()\n",
    "hora"
   ]
  },
  {
   "cell_type": "code",
   "execution_count": 52,
   "id": "436b784a",
   "metadata": {},
   "outputs": [
    {
     "ename": "SyntaxError",
     "evalue": "invalid syntax (<ipython-input-52-4aa72076179c>, line 1)",
     "output_type": "error",
     "traceback": [
      "\u001b[1;36m  File \u001b[1;32m\"<ipython-input-52-4aa72076179c>\"\u001b[1;36m, line \u001b[1;32m1\u001b[0m\n\u001b[1;33m    pd.concat.([hora,delitos],axis=1)\u001b[0m\n\u001b[1;37m              ^\u001b[0m\n\u001b[1;31mSyntaxError\u001b[0m\u001b[1;31m:\u001b[0m invalid syntax\n"
     ]
    }
   ],
   "source": [
    "pd.concat.([hora,delitos],axis=1)"
   ]
  },
  {
   "cell_type": "code",
   "execution_count": 37,
   "id": "f510fb1a",
   "metadata": {},
   "outputs": [
    {
     "data": {
      "text/plain": [
       "(        idCarpeta  Año_inicio Mes_inicio FechaInicio  \\\n",
       " 3         8324435        2019      Enero  04/01/2019   \n",
       " 7         8324451        2019      Enero  04/01/2019   \n",
       " 8         8324454        2019      Enero  04/01/2019   \n",
       " 11        8324459        2019      Enero  04/01/2019   \n",
       " 12        8324465        2019      Enero  04/01/2019   \n",
       " ...           ...         ...        ...         ...   \n",
       " 369724    8711993        2020      Junio  30/06/2020   \n",
       " 369732    8711989        2020      Junio  30/06/2020   \n",
       " 369733    8711985        2020      Junio  30/06/2020   \n",
       " 369734    8711995        2020      Junio  30/06/2020   \n",
       " 369738    8711986        2020      Junio  30/06/2020   \n",
       " \n",
       "                                                    Delito  \\\n",
       " 3       ROBO DE VEHICULO DE SERVICIO PARTICULAR SIN VI...   \n",
       " 7                                               VIOLACION   \n",
       " 8       PRODUCCIÓN, IMPRESIÓN, ENAJENACIÓN, DISTRIBUCI...   \n",
       " 11      ROBO A PASAJERO A BORDO DE PESERO COLECTIVO CO...   \n",
       " 12      PRODUCCIÓN, IMPRESIÓN, ENAJENACIÓN, DISTRIBUCI...   \n",
       " ...                                                   ...   \n",
       " 369724                                    ROBO DE OBJETOS   \n",
       " 369732                                 ABUSO DE CONFIANZA   \n",
       " 369733     ROBO A TRANSEUNTE EN VIA PUBLICA CON VIOLENCIA   \n",
       " 369734                                             FRAUDE   \n",
       " 369738                                 VIOLENCIA FAMILIAR   \n",
       " \n",
       "                                                 Categoria       Sexo  Edad  \\\n",
       " 3                    ROBO DE VEHÍCULO CON Y SIN VIOLENCIA  Masculino  35.0   \n",
       " 7                                               VIOLACIÓN  Masculino  13.0   \n",
       " 8                                  DELITO DE BAJO IMPACTO   Femenino  83.0   \n",
       " 11      ROBO A PASAJERO A BORDO DE MICROBUS CON Y SIN ...  Masculino  27.0   \n",
       " 12                                 DELITO DE BAJO IMPACTO   Femenino  58.0   \n",
       " ...                                                   ...        ...   ...   \n",
       " 369724                             DELITO DE BAJO IMPACTO   Femenino  20.0   \n",
       " 369732                             DELITO DE BAJO IMPACTO  Masculino  42.0   \n",
       " 369733  ROBO A TRANSEUNTE EN VÍA PÚBLICA CON Y SIN VIO...  Masculino  14.0   \n",
       " 369734                             DELITO DE BAJO IMPACTO   Femenino  56.0   \n",
       " 369738                             DELITO DE BAJO IMPACTO   Femenino  28.0   \n",
       " \n",
       "        TipoPersona        CalidadJuridica  ...  Mes_hecho  FechaHecho  \\\n",
       " 3           FISICA  VICTIMA Y DENUNCIANTE  ...      Enero  04/01/2019   \n",
       " 7           FISICA                VICTIMA  ...  Diciembre  19/12/2010   \n",
       " 8           FISICA  VICTIMA Y DENUNCIANTE  ...  Diciembre  27/12/2018   \n",
       " 11          FISICA  VICTIMA Y DENUNCIANTE  ...      Enero  04/01/2018   \n",
       " 12          FISICA  VICTIMA Y DENUNCIANTE  ...  Diciembre  03/12/2018   \n",
       " ...            ...                    ...  ...        ...         ...   \n",
       " 369724      FISICA  VICTIMA Y DENUNCIANTE  ...      Junio  30/06/2020   \n",
       " 369732      FISICA  VICTIMA Y DENUNCIANTE  ...  Noviembre  02/11/2019   \n",
       " 369733      FISICA  VICTIMA Y DENUNCIANTE  ...      Junio  30/06/2020   \n",
       " 369734      FISICA  VICTIMA Y DENUNCIANTE  ...      Junio  29/06/2020   \n",
       " 369738      FISICA  VICTIMA Y DENUNCIANTE  ...      Junio  30/06/2020   \n",
       " \n",
       "        HoraHecho HoraInicio          AlcaldiaHechos  \\\n",
       " 3       06:00:00   12:27:00               IZTACALCO   \n",
       " 7       03:00:00   12:48:00        GUSTAVO A MADERO   \n",
       " 8       13:00:00   12:51:00              IZTAPALAPA   \n",
       " 11      08:30:00   12:53:00     VENUSTIANO CARRANZA   \n",
       " 12      14:30:00   12:59:00        GUSTAVO A MADERO   \n",
       " ...          ...        ...                     ...   \n",
       " 369724  06:00:00   23:24:00               IZTACALCO   \n",
       " 369732  10:00:00   23:38:00  LA MAGDALENA CONTRERAS   \n",
       " 369733  23:00:00   23:38:00        GUSTAVO A MADERO   \n",
       " 369734  03:30:00   23:39:00          ALVARO OBREGON   \n",
       " 369738  21:30:00   23:55:00               IZTACALCO   \n",
       " \n",
       "                                  ColoniaHechos                Calle_hechos  \\\n",
       " 3                           AGRÍCOLA PANTITLAN                     CALLE 6   \n",
       " 7                                   LA CASILDA            CORONA DEL ROSAL   \n",
       " 8                                     BANJIDAL                   SUR 69 -A   \n",
       " 11                          CUCHILLA PANTITLAN    RIO CHURUBUSCO Y CALLE 1   \n",
       " 12      UNIDAD PROFESIONAL ADOLFO LOPEZ MATEOS     AV. OTHON DE MENDIZABAL   \n",
       " ...                                        ...                         ...   \n",
       " 369724                               SAN PEDRO  AV. ANDRES MOLINA ENRIQUEZ   \n",
       " 369732                      HÉROES DE PADIERNA                    VERACRUZ   \n",
       " 369733                                 VALLEJO                       CLAVE   \n",
       " 369734                                  AXOTLA              AV UNIVERSIDAD   \n",
       " 369738                            SANTIAGO SUR                 PLAYA NIZUC   \n",
       " \n",
       "                                      Calle_hechos2    latitud   longitud  \n",
       " 3       ENTRE PRIVADA DEL VALLE Y PRIVADA GONZALEZ  19.403270 -99.059830  \n",
       " 7                                    INDETERMINADO  19.556320 -99.129330  \n",
       " 8                          CALZ. ERMITA IZTAPALAPA  19.359960 -99.136960  \n",
       " 11                                         CALLE 1  19.421020 -99.067750  \n",
       " 12                                  MIGUEL BERNARD  19.509590 -99.139850  \n",
       " ...                                            ...        ...        ...  \n",
       " 369724                                  CDA. TIZOC  19.395183 -99.129210  \n",
       " 369732                                     CHIAPAS  19.312763 -99.228567  \n",
       " 369733                                     PUCINNI  19.466284 -99.134871  \n",
       " 369734                                   INDUSTRIA  19.358334 -99.172309  \n",
       " 369738                                AV. AMACUZAC  19.389455 -99.127101  \n",
       " \n",
       " [88806 rows x 22 columns],\n",
       " 'HoraInicio',\n",
       " 'hora')"
      ]
     },
     "execution_count": 37,
     "metadata": {},
     "output_type": "execute_result"
    }
   ],
   "source": [
    "(df, 'HoraInicio', 'hora')  "
   ]
  },
  {
   "cell_type": "code",
   "execution_count": null,
   "id": "c0bcfb3d",
   "metadata": {},
   "outputs": [],
   "source": [
    "hora_delitos = pd.concat ([delitos,hora], axis=1)\n",
    "hora_delitos"
   ]
  },
  {
   "cell_type": "code",
   "execution_count": 10,
   "id": "82539457",
   "metadata": {},
   "outputs": [],
   "source": [
    "categorias_delito = df[['HoraInicio','Categoria']]"
   ]
  },
  {
   "cell_type": "code",
   "execution_count": 73,
   "id": "fc4e5f9f",
   "metadata": {},
   "outputs": [
    {
     "data": {
      "text/html": [
       "<div>\n",
       "<style scoped>\n",
       "    .dataframe tbody tr th:only-of-type {\n",
       "        vertical-align: middle;\n",
       "    }\n",
       "\n",
       "    .dataframe tbody tr th {\n",
       "        vertical-align: top;\n",
       "    }\n",
       "\n",
       "    .dataframe thead th {\n",
       "        text-align: right;\n",
       "    }\n",
       "</style>\n",
       "<table border=\"1\" class=\"dataframe\">\n",
       "  <thead>\n",
       "    <tr style=\"text-align: right;\">\n",
       "      <th></th>\n",
       "      <th>HoraInicio</th>\n",
       "      <th>Categoria</th>\n",
       "      <th>size</th>\n",
       "    </tr>\n",
       "  </thead>\n",
       "  <tbody>\n",
       "    <tr>\n",
       "      <th>17481</th>\n",
       "      <td>12:50:00</td>\n",
       "      <td>DELITO DE BAJO IMPACTO</td>\n",
       "      <td>46</td>\n",
       "    </tr>\n",
       "    <tr>\n",
       "      <th>25772</th>\n",
       "      <td>15:14:00</td>\n",
       "      <td>DELITO DE BAJO IMPACTO</td>\n",
       "      <td>44</td>\n",
       "    </tr>\n",
       "    <tr>\n",
       "      <th>31279</th>\n",
       "      <td>16:56:00</td>\n",
       "      <td>DELITO DE BAJO IMPACTO</td>\n",
       "      <td>44</td>\n",
       "    </tr>\n",
       "    <tr>\n",
       "      <th>23778</th>\n",
       "      <td>14:38:00</td>\n",
       "      <td>DELITO DE BAJO IMPACTO</td>\n",
       "      <td>44</td>\n",
       "    </tr>\n",
       "    <tr>\n",
       "      <th>34033</th>\n",
       "      <td>17:49:00</td>\n",
       "      <td>DELITO DE BAJO IMPACTO</td>\n",
       "      <td>43</td>\n",
       "    </tr>\n",
       "    <tr>\n",
       "      <th>...</th>\n",
       "      <td>...</td>\n",
       "      <td>...</td>\n",
       "      <td>...</td>\n",
       "    </tr>\n",
       "    <tr>\n",
       "      <th>18346</th>\n",
       "      <td>13:04:49</td>\n",
       "      <td>DELITO DE BAJO IMPACTO</td>\n",
       "      <td>1</td>\n",
       "    </tr>\n",
       "    <tr>\n",
       "      <th>18347</th>\n",
       "      <td>13:04:51</td>\n",
       "      <td>ROBO A TRANSEUNTE EN VÍA PÚBLICA CON Y SIN VIO...</td>\n",
       "      <td>1</td>\n",
       "    </tr>\n",
       "    <tr>\n",
       "      <th>18348</th>\n",
       "      <td>13:04:52</td>\n",
       "      <td>DELITO DE BAJO IMPACTO</td>\n",
       "      <td>1</td>\n",
       "    </tr>\n",
       "    <tr>\n",
       "      <th>18349</th>\n",
       "      <td>13:04:54</td>\n",
       "      <td>DELITO DE BAJO IMPACTO</td>\n",
       "      <td>1</td>\n",
       "    </tr>\n",
       "    <tr>\n",
       "      <th>49635</th>\n",
       "      <td>23:59:58</td>\n",
       "      <td>DELITO DE BAJO IMPACTO</td>\n",
       "      <td>1</td>\n",
       "    </tr>\n",
       "  </tbody>\n",
       "</table>\n",
       "<p>49636 rows × 3 columns</p>\n",
       "</div>"
      ],
      "text/plain": [
       "      HoraInicio                                          Categoria  size\n",
       "17481   12:50:00                             DELITO DE BAJO IMPACTO    46\n",
       "25772   15:14:00                             DELITO DE BAJO IMPACTO    44\n",
       "31279   16:56:00                             DELITO DE BAJO IMPACTO    44\n",
       "23778   14:38:00                             DELITO DE BAJO IMPACTO    44\n",
       "34033   17:49:00                             DELITO DE BAJO IMPACTO    43\n",
       "...          ...                                                ...   ...\n",
       "18346   13:04:49                             DELITO DE BAJO IMPACTO     1\n",
       "18347   13:04:51  ROBO A TRANSEUNTE EN VÍA PÚBLICA CON Y SIN VIO...     1\n",
       "18348   13:04:52                             DELITO DE BAJO IMPACTO     1\n",
       "18349   13:04:54                             DELITO DE BAJO IMPACTO     1\n",
       "49635   23:59:58                             DELITO DE BAJO IMPACTO     1\n",
       "\n",
       "[49636 rows x 3 columns]"
      ]
     },
     "execution_count": 73,
     "metadata": {},
     "output_type": "execute_result"
    }
   ],
   "source": [
    "delitos_hora=categorias_delito.groupby(['HoraInicio','Categoria'],as_index=False).size().sort_values('size',ascending=False)\n",
    "delitos_hora"
   ]
  },
  {
   "cell_type": "markdown",
   "id": "4c50b7c9",
   "metadata": {},
   "source": [
    "##  En la hora12:50:00 \t se registran mas  DELITO DE BAJO IMPACTO"
   ]
  },
  {
   "cell_type": "code",
   "execution_count": 75,
   "id": "5105a49b",
   "metadata": {},
   "outputs": [],
   "source": [
    "delitos= df.groupby(['Categoria'])['HoraInicio'].apply(lambda x: x[x.str.contains('HoraInicio')].count())\n"
   ]
  },
  {
   "cell_type": "code",
   "execution_count": 76,
   "id": "f68ea3a3",
   "metadata": {},
   "outputs": [
    {
     "data": {
      "text/plain": [
       "Categoria\n",
       "DELITO DE BAJO IMPACTO                                     0\n",
       "HECHO NO DELICTIVO                                         0\n",
       "HOMICIDIO DOLOSO                                           0\n",
       "LESIONES DOLOSAS POR DISPARO DE ARMA DE FUEGO              0\n",
       "ROBO A CASA HABITACIÓN CON VIOLENCIA                       0\n",
       "ROBO A CUENTAHABIENTE SALIENDO DEL CAJERO CON VIOLENCIA    0\n",
       "ROBO A NEGOCIO CON VIOLENCIA                               0\n",
       "ROBO A PASAJERO A BORDO DE MICROBUS CON Y SIN VIOLENCIA    0\n",
       "ROBO A PASAJERO A BORDO DE TAXI CON VIOLENCIA              0\n",
       "ROBO A PASAJERO A BORDO DEL METRO CON Y SIN VIOLENCIA      0\n",
       "ROBO A REPARTIDOR CON Y SIN VIOLENCIA                      0\n",
       "ROBO A TRANSEUNTE EN VÍA PÚBLICA CON Y SIN VIOLENCIA       0\n",
       "ROBO A TRANSPORTISTA CON Y SIN VIOLENCIA                   0\n",
       "ROBO DE VEHÍCULO CON Y SIN VIOLENCIA                       0\n",
       "SECUESTRO                                                  0\n",
       "VIOLACIÓN                                                  0\n",
       "Name: HoraInicio, dtype: int64"
      ]
     },
     "execution_count": 76,
     "metadata": {},
     "output_type": "execute_result"
    }
   ],
   "source": [
    "delitos"
   ]
  },
  {
   "cell_type": "markdown",
   "id": "2e5e9721",
   "metadata": {},
   "source": [
    "# (c) ¿Como se distribuye el numero de delitos en la CDMX? ¿Cuales son los 5 delitos mas frecuentes?"
   ]
  },
  {
   "cell_type": "code",
   "execution_count": 78,
   "id": "4d2ada11",
   "metadata": {},
   "outputs": [
    {
     "data": {
      "text/plain": [
       "Index(['idCarpeta', 'Año_inicio', 'Mes_inicio', 'FechaInicio', 'Delito',\n",
       "       'Categoria', 'Sexo', 'Edad', 'TipoPersona', 'CalidadJuridica',\n",
       "       'competencia', 'Año_hecho', 'Mes_hecho', 'FechaHecho', 'HoraHecho',\n",
       "       'HoraInicio', 'AlcaldiaHechos', 'ColoniaHechos', 'Calle_hechos',\n",
       "       'Calle_hechos2', 'latitud', 'longitud'],\n",
       "      dtype='object')"
      ]
     },
     "execution_count": 78,
     "metadata": {},
     "output_type": "execute_result"
    }
   ],
   "source": [
    "df.columns"
   ]
  },
  {
   "cell_type": "code",
   "execution_count": 118,
   "id": "4fb83f6b",
   "metadata": {},
   "outputs": [],
   "source": [
    "delitos_frecuentes = df.groupby(['Categoria'],as_index=False).size().sort_values('size',ascending=False)"
   ]
  },
  {
   "cell_type": "code",
   "execution_count": 119,
   "id": "19d400fe",
   "metadata": {},
   "outputs": [
    {
     "data": {
      "text/html": [
       "<div>\n",
       "<style scoped>\n",
       "    .dataframe tbody tr th:only-of-type {\n",
       "        vertical-align: middle;\n",
       "    }\n",
       "\n",
       "    .dataframe tbody tr th {\n",
       "        vertical-align: top;\n",
       "    }\n",
       "\n",
       "    .dataframe thead th {\n",
       "        text-align: right;\n",
       "    }\n",
       "</style>\n",
       "<table border=\"1\" class=\"dataframe\">\n",
       "  <thead>\n",
       "    <tr style=\"text-align: right;\">\n",
       "      <th></th>\n",
       "      <th>Categoria</th>\n",
       "      <th>size</th>\n",
       "    </tr>\n",
       "  </thead>\n",
       "  <tbody>\n",
       "    <tr>\n",
       "      <th>0</th>\n",
       "      <td>DELITO DE BAJO IMPACTO</td>\n",
       "      <td>62910</td>\n",
       "    </tr>\n",
       "    <tr>\n",
       "      <th>11</th>\n",
       "      <td>ROBO A TRANSEUNTE EN VÍA PÚBLICA CON Y SIN VIO...</td>\n",
       "      <td>9483</td>\n",
       "    </tr>\n",
       "    <tr>\n",
       "      <th>13</th>\n",
       "      <td>ROBO DE VEHÍCULO CON Y SIN VIOLENCIA</td>\n",
       "      <td>8274</td>\n",
       "    </tr>\n",
       "    <tr>\n",
       "      <th>1</th>\n",
       "      <td>HECHO NO DELICTIVO</td>\n",
       "      <td>1303</td>\n",
       "    </tr>\n",
       "    <tr>\n",
       "      <th>2</th>\n",
       "      <td>HOMICIDIO DOLOSO</td>\n",
       "      <td>1297</td>\n",
       "    </tr>\n",
       "    <tr>\n",
       "      <th>6</th>\n",
       "      <td>ROBO A NEGOCIO CON VIOLENCIA</td>\n",
       "      <td>1258</td>\n",
       "    </tr>\n",
       "    <tr>\n",
       "      <th>9</th>\n",
       "      <td>ROBO A PASAJERO A BORDO DEL METRO CON Y SIN VI...</td>\n",
       "      <td>1074</td>\n",
       "    </tr>\n",
       "    <tr>\n",
       "      <th>7</th>\n",
       "      <td>ROBO A PASAJERO A BORDO DE MICROBUS CON Y SIN ...</td>\n",
       "      <td>735</td>\n",
       "    </tr>\n",
       "    <tr>\n",
       "      <th>3</th>\n",
       "      <td>LESIONES DOLOSAS POR DISPARO DE ARMA DE FUEGO</td>\n",
       "      <td>607</td>\n",
       "    </tr>\n",
       "    <tr>\n",
       "      <th>10</th>\n",
       "      <td>ROBO A REPARTIDOR CON Y SIN VIOLENCIA</td>\n",
       "      <td>524</td>\n",
       "    </tr>\n",
       "    <tr>\n",
       "      <th>15</th>\n",
       "      <td>VIOLACIÓN</td>\n",
       "      <td>410</td>\n",
       "    </tr>\n",
       "    <tr>\n",
       "      <th>5</th>\n",
       "      <td>ROBO A CUENTAHABIENTE SALIENDO DEL CAJERO CON ...</td>\n",
       "      <td>390</td>\n",
       "    </tr>\n",
       "    <tr>\n",
       "      <th>4</th>\n",
       "      <td>ROBO A CASA HABITACIÓN CON VIOLENCIA</td>\n",
       "      <td>296</td>\n",
       "    </tr>\n",
       "    <tr>\n",
       "      <th>8</th>\n",
       "      <td>ROBO A PASAJERO A BORDO DE TAXI CON VIOLENCIA</td>\n",
       "      <td>209</td>\n",
       "    </tr>\n",
       "    <tr>\n",
       "      <th>12</th>\n",
       "      <td>ROBO A TRANSPORTISTA CON Y SIN VIOLENCIA</td>\n",
       "      <td>23</td>\n",
       "    </tr>\n",
       "    <tr>\n",
       "      <th>14</th>\n",
       "      <td>SECUESTRO</td>\n",
       "      <td>13</td>\n",
       "    </tr>\n",
       "  </tbody>\n",
       "</table>\n",
       "</div>"
      ],
      "text/plain": [
       "                                            Categoria   size\n",
       "0                              DELITO DE BAJO IMPACTO  62910\n",
       "11  ROBO A TRANSEUNTE EN VÍA PÚBLICA CON Y SIN VIO...   9483\n",
       "13               ROBO DE VEHÍCULO CON Y SIN VIOLENCIA   8274\n",
       "1                                  HECHO NO DELICTIVO   1303\n",
       "2                                    HOMICIDIO DOLOSO   1297\n",
       "6                        ROBO A NEGOCIO CON VIOLENCIA   1258\n",
       "9   ROBO A PASAJERO A BORDO DEL METRO CON Y SIN VI...   1074\n",
       "7   ROBO A PASAJERO A BORDO DE MICROBUS CON Y SIN ...    735\n",
       "3       LESIONES DOLOSAS POR DISPARO DE ARMA DE FUEGO    607\n",
       "10              ROBO A REPARTIDOR CON Y SIN VIOLENCIA    524\n",
       "15                                          VIOLACIÓN    410\n",
       "5   ROBO A CUENTAHABIENTE SALIENDO DEL CAJERO CON ...    390\n",
       "4                ROBO A CASA HABITACIÓN CON VIOLENCIA    296\n",
       "8       ROBO A PASAJERO A BORDO DE TAXI CON VIOLENCIA    209\n",
       "12           ROBO A TRANSPORTISTA CON Y SIN VIOLENCIA     23\n",
       "14                                          SECUESTRO     13"
      ]
     },
     "execution_count": 119,
     "metadata": {},
     "output_type": "execute_result"
    }
   ],
   "source": [
    "delitos_frecuentes"
   ]
  },
  {
   "cell_type": "markdown",
   "id": "71db1ae1",
   "metadata": {},
   "source": [
    "#  categoria de  DELITO DE BAJO IMPACTO  con\t62910"
   ]
  },
  {
   "cell_type": "markdown",
   "id": "6885d068",
   "metadata": {},
   "source": [
    "# (d) Identifica los delitos que van a la alza y a la baja en la CDMX en el  ́ultimo a ̃no(ten cuidado con los delitos con pocas ocurrencias)."
   ]
  },
  {
   "cell_type": "code",
   "execution_count": 138,
   "id": "238e509e",
   "metadata": {},
   "outputs": [
    {
     "data": {
      "text/html": [
       "<div>\n",
       "<style scoped>\n",
       "    .dataframe tbody tr th:only-of-type {\n",
       "        vertical-align: middle;\n",
       "    }\n",
       "\n",
       "    .dataframe tbody tr th {\n",
       "        vertical-align: top;\n",
       "    }\n",
       "\n",
       "    .dataframe thead th {\n",
       "        text-align: right;\n",
       "    }\n",
       "</style>\n",
       "<table border=\"1\" class=\"dataframe\">\n",
       "  <thead>\n",
       "    <tr style=\"text-align: right;\">\n",
       "      <th></th>\n",
       "      <th>Categoria</th>\n",
       "      <th>size</th>\n",
       "    </tr>\n",
       "  </thead>\n",
       "  <tbody>\n",
       "    <tr>\n",
       "      <th>0</th>\n",
       "      <td>DELITO DE BAJO IMPACTO</td>\n",
       "      <td>62910</td>\n",
       "    </tr>\n",
       "    <tr>\n",
       "      <th>11</th>\n",
       "      <td>ROBO A TRANSEUNTE EN VÍA PÚBLICA CON Y SIN VIO...</td>\n",
       "      <td>9483</td>\n",
       "    </tr>\n",
       "    <tr>\n",
       "      <th>13</th>\n",
       "      <td>ROBO DE VEHÍCULO CON Y SIN VIOLENCIA</td>\n",
       "      <td>8274</td>\n",
       "    </tr>\n",
       "    <tr>\n",
       "      <th>1</th>\n",
       "      <td>HECHO NO DELICTIVO</td>\n",
       "      <td>1303</td>\n",
       "    </tr>\n",
       "    <tr>\n",
       "      <th>2</th>\n",
       "      <td>HOMICIDIO DOLOSO</td>\n",
       "      <td>1297</td>\n",
       "    </tr>\n",
       "    <tr>\n",
       "      <th>6</th>\n",
       "      <td>ROBO A NEGOCIO CON VIOLENCIA</td>\n",
       "      <td>1258</td>\n",
       "    </tr>\n",
       "    <tr>\n",
       "      <th>9</th>\n",
       "      <td>ROBO A PASAJERO A BORDO DEL METRO CON Y SIN VI...</td>\n",
       "      <td>1074</td>\n",
       "    </tr>\n",
       "    <tr>\n",
       "      <th>7</th>\n",
       "      <td>ROBO A PASAJERO A BORDO DE MICROBUS CON Y SIN ...</td>\n",
       "      <td>735</td>\n",
       "    </tr>\n",
       "    <tr>\n",
       "      <th>3</th>\n",
       "      <td>LESIONES DOLOSAS POR DISPARO DE ARMA DE FUEGO</td>\n",
       "      <td>607</td>\n",
       "    </tr>\n",
       "    <tr>\n",
       "      <th>10</th>\n",
       "      <td>ROBO A REPARTIDOR CON Y SIN VIOLENCIA</td>\n",
       "      <td>524</td>\n",
       "    </tr>\n",
       "    <tr>\n",
       "      <th>15</th>\n",
       "      <td>VIOLACIÓN</td>\n",
       "      <td>410</td>\n",
       "    </tr>\n",
       "    <tr>\n",
       "      <th>5</th>\n",
       "      <td>ROBO A CUENTAHABIENTE SALIENDO DEL CAJERO CON ...</td>\n",
       "      <td>390</td>\n",
       "    </tr>\n",
       "    <tr>\n",
       "      <th>4</th>\n",
       "      <td>ROBO A CASA HABITACIÓN CON VIOLENCIA</td>\n",
       "      <td>296</td>\n",
       "    </tr>\n",
       "    <tr>\n",
       "      <th>8</th>\n",
       "      <td>ROBO A PASAJERO A BORDO DE TAXI CON VIOLENCIA</td>\n",
       "      <td>209</td>\n",
       "    </tr>\n",
       "    <tr>\n",
       "      <th>12</th>\n",
       "      <td>ROBO A TRANSPORTISTA CON Y SIN VIOLENCIA</td>\n",
       "      <td>23</td>\n",
       "    </tr>\n",
       "    <tr>\n",
       "      <th>14</th>\n",
       "      <td>SECUESTRO</td>\n",
       "      <td>13</td>\n",
       "    </tr>\n",
       "  </tbody>\n",
       "</table>\n",
       "</div>"
      ],
      "text/plain": [
       "                                            Categoria   size\n",
       "0                              DELITO DE BAJO IMPACTO  62910\n",
       "11  ROBO A TRANSEUNTE EN VÍA PÚBLICA CON Y SIN VIO...   9483\n",
       "13               ROBO DE VEHÍCULO CON Y SIN VIOLENCIA   8274\n",
       "1                                  HECHO NO DELICTIVO   1303\n",
       "2                                    HOMICIDIO DOLOSO   1297\n",
       "6                        ROBO A NEGOCIO CON VIOLENCIA   1258\n",
       "9   ROBO A PASAJERO A BORDO DEL METRO CON Y SIN VI...   1074\n",
       "7   ROBO A PASAJERO A BORDO DE MICROBUS CON Y SIN ...    735\n",
       "3       LESIONES DOLOSAS POR DISPARO DE ARMA DE FUEGO    607\n",
       "10              ROBO A REPARTIDOR CON Y SIN VIOLENCIA    524\n",
       "15                                          VIOLACIÓN    410\n",
       "5   ROBO A CUENTAHABIENTE SALIENDO DEL CAJERO CON ...    390\n",
       "4                ROBO A CASA HABITACIÓN CON VIOLENCIA    296\n",
       "8       ROBO A PASAJERO A BORDO DE TAXI CON VIOLENCIA    209\n",
       "12           ROBO A TRANSPORTISTA CON Y SIN VIOLENCIA     23\n",
       "14                                          SECUESTRO     13"
      ]
     },
     "execution_count": 138,
     "metadata": {},
     "output_type": "execute_result"
    }
   ],
   "source": [
    "delitos_frecuentes = df.groupby(['Categoria'],as_index=False).size().sort_values('size',ascending=False)\n",
    "delitos_frecuentes"
   ]
  },
  {
   "cell_type": "code",
   "execution_count": 126,
   "id": "42f5ff6b",
   "metadata": {},
   "outputs": [
    {
     "data": {
      "text/plain": [
       "16"
      ]
     },
     "execution_count": 126,
     "metadata": {},
     "output_type": "execute_result"
    }
   ],
   "source": [
    "len(list(df.Categoria.unique()))"
   ]
  },
  {
   "cell_type": "code",
   "execution_count": 128,
   "id": "f680c763",
   "metadata": {},
   "outputs": [
    {
     "data": {
      "text/html": [
       "<div>\n",
       "<style scoped>\n",
       "    .dataframe tbody tr th:only-of-type {\n",
       "        vertical-align: middle;\n",
       "    }\n",
       "\n",
       "    .dataframe tbody tr th {\n",
       "        vertical-align: top;\n",
       "    }\n",
       "\n",
       "    .dataframe thead th {\n",
       "        text-align: right;\n",
       "    }\n",
       "</style>\n",
       "<table border=\"1\" class=\"dataframe\">\n",
       "  <thead>\n",
       "    <tr style=\"text-align: right;\">\n",
       "      <th></th>\n",
       "      <th>size</th>\n",
       "    </tr>\n",
       "  </thead>\n",
       "  <tbody>\n",
       "    <tr>\n",
       "      <th>count</th>\n",
       "      <td>16.000000</td>\n",
       "    </tr>\n",
       "    <tr>\n",
       "      <th>mean</th>\n",
       "      <td>5550.375000</td>\n",
       "    </tr>\n",
       "    <tr>\n",
       "      <th>std</th>\n",
       "      <td>15558.276181</td>\n",
       "    </tr>\n",
       "    <tr>\n",
       "      <th>min</th>\n",
       "      <td>13.000000</td>\n",
       "    </tr>\n",
       "    <tr>\n",
       "      <th>25%</th>\n",
       "      <td>366.500000</td>\n",
       "    </tr>\n",
       "    <tr>\n",
       "      <th>50%</th>\n",
       "      <td>671.000000</td>\n",
       "    </tr>\n",
       "    <tr>\n",
       "      <th>75%</th>\n",
       "      <td>1298.500000</td>\n",
       "    </tr>\n",
       "    <tr>\n",
       "      <th>max</th>\n",
       "      <td>62910.000000</td>\n",
       "    </tr>\n",
       "  </tbody>\n",
       "</table>\n",
       "</div>"
      ],
      "text/plain": [
       "               size\n",
       "count     16.000000\n",
       "mean    5550.375000\n",
       "std    15558.276181\n",
       "min       13.000000\n",
       "25%      366.500000\n",
       "50%      671.000000\n",
       "75%     1298.500000\n",
       "max    62910.000000"
      ]
     },
     "execution_count": 128,
     "metadata": {},
     "output_type": "execute_result"
    }
   ],
   "source": [
    "delitos_frecuentes.describe()"
   ]
  },
  {
   "cell_type": "code",
   "execution_count": 134,
   "id": "8f7dccd6",
   "metadata": {},
   "outputs": [
    {
     "data": {
      "text/plain": [
       "(12, 2)"
      ]
     },
     "execution_count": 134,
     "metadata": {},
     "output_type": "execute_result"
    }
   ],
   "source": [
    "cuartiles_datos=delitos_frecuentes[delitos_frecuentes['size']>=366.500000]\n",
    "cuartiles_datos.shape"
   ]
  },
  {
   "cell_type": "markdown",
   "id": "955419bd",
   "metadata": {},
   "source": [
    "# baja con 25%"
   ]
  },
  {
   "cell_type": "code",
   "execution_count": 135,
   "id": "ec6e1196",
   "metadata": {},
   "outputs": [
    {
     "data": {
      "text/html": [
       "<div>\n",
       "<style scoped>\n",
       "    .dataframe tbody tr th:only-of-type {\n",
       "        vertical-align: middle;\n",
       "    }\n",
       "\n",
       "    .dataframe tbody tr th {\n",
       "        vertical-align: top;\n",
       "    }\n",
       "\n",
       "    .dataframe thead th {\n",
       "        text-align: right;\n",
       "    }\n",
       "</style>\n",
       "<table border=\"1\" class=\"dataframe\">\n",
       "  <thead>\n",
       "    <tr style=\"text-align: right;\">\n",
       "      <th></th>\n",
       "      <th>Categoria</th>\n",
       "      <th>size</th>\n",
       "    </tr>\n",
       "  </thead>\n",
       "  <tbody>\n",
       "    <tr>\n",
       "      <th>0</th>\n",
       "      <td>DELITO DE BAJO IMPACTO</td>\n",
       "      <td>62910</td>\n",
       "    </tr>\n",
       "    <tr>\n",
       "      <th>11</th>\n",
       "      <td>ROBO A TRANSEUNTE EN VÍA PÚBLICA CON Y SIN VIO...</td>\n",
       "      <td>9483</td>\n",
       "    </tr>\n",
       "    <tr>\n",
       "      <th>13</th>\n",
       "      <td>ROBO DE VEHÍCULO CON Y SIN VIOLENCIA</td>\n",
       "      <td>8274</td>\n",
       "    </tr>\n",
       "    <tr>\n",
       "      <th>1</th>\n",
       "      <td>HECHO NO DELICTIVO</td>\n",
       "      <td>1303</td>\n",
       "    </tr>\n",
       "    <tr>\n",
       "      <th>2</th>\n",
       "      <td>HOMICIDIO DOLOSO</td>\n",
       "      <td>1297</td>\n",
       "    </tr>\n",
       "    <tr>\n",
       "      <th>6</th>\n",
       "      <td>ROBO A NEGOCIO CON VIOLENCIA</td>\n",
       "      <td>1258</td>\n",
       "    </tr>\n",
       "    <tr>\n",
       "      <th>9</th>\n",
       "      <td>ROBO A PASAJERO A BORDO DEL METRO CON Y SIN VI...</td>\n",
       "      <td>1074</td>\n",
       "    </tr>\n",
       "    <tr>\n",
       "      <th>7</th>\n",
       "      <td>ROBO A PASAJERO A BORDO DE MICROBUS CON Y SIN ...</td>\n",
       "      <td>735</td>\n",
       "    </tr>\n",
       "    <tr>\n",
       "      <th>3</th>\n",
       "      <td>LESIONES DOLOSAS POR DISPARO DE ARMA DE FUEGO</td>\n",
       "      <td>607</td>\n",
       "    </tr>\n",
       "    <tr>\n",
       "      <th>10</th>\n",
       "      <td>ROBO A REPARTIDOR CON Y SIN VIOLENCIA</td>\n",
       "      <td>524</td>\n",
       "    </tr>\n",
       "    <tr>\n",
       "      <th>15</th>\n",
       "      <td>VIOLACIÓN</td>\n",
       "      <td>410</td>\n",
       "    </tr>\n",
       "    <tr>\n",
       "      <th>5</th>\n",
       "      <td>ROBO A CUENTAHABIENTE SALIENDO DEL CAJERO CON ...</td>\n",
       "      <td>390</td>\n",
       "    </tr>\n",
       "  </tbody>\n",
       "</table>\n",
       "</div>"
      ],
      "text/plain": [
       "                                            Categoria   size\n",
       "0                              DELITO DE BAJO IMPACTO  62910\n",
       "11  ROBO A TRANSEUNTE EN VÍA PÚBLICA CON Y SIN VIO...   9483\n",
       "13               ROBO DE VEHÍCULO CON Y SIN VIOLENCIA   8274\n",
       "1                                  HECHO NO DELICTIVO   1303\n",
       "2                                    HOMICIDIO DOLOSO   1297\n",
       "6                        ROBO A NEGOCIO CON VIOLENCIA   1258\n",
       "9   ROBO A PASAJERO A BORDO DEL METRO CON Y SIN VI...   1074\n",
       "7   ROBO A PASAJERO A BORDO DE MICROBUS CON Y SIN ...    735\n",
       "3       LESIONES DOLOSAS POR DISPARO DE ARMA DE FUEGO    607\n",
       "10              ROBO A REPARTIDOR CON Y SIN VIOLENCIA    524\n",
       "15                                          VIOLACIÓN    410\n",
       "5   ROBO A CUENTAHABIENTE SALIENDO DEL CAJERO CON ...    390"
      ]
     },
     "execution_count": 135,
     "metadata": {},
     "output_type": "execute_result"
    }
   ],
   "source": [
    "cuartiles_datos"
   ]
  },
  {
   "cell_type": "code",
   "execution_count": null,
   "id": "50e75290",
   "metadata": {},
   "outputs": [],
   "source": [
    "cuartiles_datos_baja=delitos_frecuentes[delitos_frecuentes['size']>=1298.500000]\n",
    "cuartiles_datos_baja.shape"
   ]
  },
  {
   "cell_type": "markdown",
   "id": "577e0cee",
   "metadata": {},
   "source": [
    " # alta  al 75% "
   ]
  },
  {
   "cell_type": "code",
   "execution_count": 133,
   "id": "503009ad",
   "metadata": {},
   "outputs": [
    {
     "data": {
      "text/html": [
       "<div>\n",
       "<style scoped>\n",
       "    .dataframe tbody tr th:only-of-type {\n",
       "        vertical-align: middle;\n",
       "    }\n",
       "\n",
       "    .dataframe tbody tr th {\n",
       "        vertical-align: top;\n",
       "    }\n",
       "\n",
       "    .dataframe thead th {\n",
       "        text-align: right;\n",
       "    }\n",
       "</style>\n",
       "<table border=\"1\" class=\"dataframe\">\n",
       "  <thead>\n",
       "    <tr style=\"text-align: right;\">\n",
       "      <th></th>\n",
       "      <th>Categoria</th>\n",
       "      <th>size</th>\n",
       "    </tr>\n",
       "  </thead>\n",
       "  <tbody>\n",
       "    <tr>\n",
       "      <th>0</th>\n",
       "      <td>DELITO DE BAJO IMPACTO</td>\n",
       "      <td>62910</td>\n",
       "    </tr>\n",
       "    <tr>\n",
       "      <th>11</th>\n",
       "      <td>ROBO A TRANSEUNTE EN VÍA PÚBLICA CON Y SIN VIO...</td>\n",
       "      <td>9483</td>\n",
       "    </tr>\n",
       "    <tr>\n",
       "      <th>13</th>\n",
       "      <td>ROBO DE VEHÍCULO CON Y SIN VIOLENCIA</td>\n",
       "      <td>8274</td>\n",
       "    </tr>\n",
       "    <tr>\n",
       "      <th>1</th>\n",
       "      <td>HECHO NO DELICTIVO</td>\n",
       "      <td>1303</td>\n",
       "    </tr>\n",
       "  </tbody>\n",
       "</table>\n",
       "</div>"
      ],
      "text/plain": [
       "                                            Categoria   size\n",
       "0                              DELITO DE BAJO IMPACTO  62910\n",
       "11  ROBO A TRANSEUNTE EN VÍA PÚBLICA CON Y SIN VIO...   9483\n",
       "13               ROBO DE VEHÍCULO CON Y SIN VIOLENCIA   8274\n",
       "1                                  HECHO NO DELICTIVO   1303"
      ]
     },
     "execution_count": 133,
     "metadata": {},
     "output_type": "execute_result"
    }
   ],
   "source": [
    "# categorias con el 75% del cuartil \n",
    "cuartiles_datos"
   ]
  },
  {
   "cell_type": "code",
   "execution_count": 136,
   "id": "776c6bb0",
   "metadata": {},
   "outputs": [
    {
     "data": {
      "text/plain": [
       "Categoria    VIOLACIÓN\n",
       "size             62910\n",
       "dtype: object"
      ]
     },
     "execution_count": 136,
     "metadata": {},
     "output_type": "execute_result"
    }
   ],
   "source": [
    "delitos_frecuentes.max()"
   ]
  },
  {
   "cell_type": "code",
   "execution_count": 137,
   "id": "28aab47b",
   "metadata": {},
   "outputs": [
    {
     "data": {
      "text/plain": [
       "Categoria    DELITO DE BAJO IMPACTO\n",
       "size                             13\n",
       "dtype: object"
      ]
     },
     "execution_count": 137,
     "metadata": {},
     "output_type": "execute_result"
    }
   ],
   "source": [
    "delitos_frecuentes.min()"
   ]
  },
  {
   "cell_type": "markdown",
   "id": "3de54840",
   "metadata": {},
   "source": [
    "# los delitos  con menor  son DELITO DE BAJO IMPACTO y mayor son VIOLACIÓN"
   ]
  },
  {
   "cell_type": "markdown",
   "id": "f7f34d83",
   "metadata": {},
   "source": [
    "# (e) ¿Cual es la alcald------>ı<------a que mas delitos tiene y cual es la que menos?. ¿Por que crees que sea esto? >:vv-/\\"
   ]
  },
  {
   "cell_type": "code",
   "execution_count": 139,
   "id": "c21925f7",
   "metadata": {},
   "outputs": [
    {
     "data": {
      "text/plain": [
       "Index(['idCarpeta', 'Año_inicio', 'Mes_inicio', 'FechaInicio', 'Delito',\n",
       "       'Categoria', 'Sexo', 'Edad', 'TipoPersona', 'CalidadJuridica',\n",
       "       'competencia', 'Año_hecho', 'Mes_hecho', 'FechaHecho', 'HoraHecho',\n",
       "       'HoraInicio', 'AlcaldiaHechos', 'ColoniaHechos', 'Calle_hechos',\n",
       "       'Calle_hechos2', 'latitud', 'longitud'],\n",
       "      dtype='object')"
      ]
     },
     "execution_count": 139,
     "metadata": {},
     "output_type": "execute_result"
    }
   ],
   "source": [
    "df.columns"
   ]
  },
  {
   "cell_type": "code",
   "execution_count": 140,
   "id": "186dbefb",
   "metadata": {},
   "outputs": [
    {
     "data": {
      "text/html": [
       "<div>\n",
       "<style scoped>\n",
       "    .dataframe tbody tr th:only-of-type {\n",
       "        vertical-align: middle;\n",
       "    }\n",
       "\n",
       "    .dataframe tbody tr th {\n",
       "        vertical-align: top;\n",
       "    }\n",
       "\n",
       "    .dataframe thead th {\n",
       "        text-align: right;\n",
       "    }\n",
       "</style>\n",
       "<table border=\"1\" class=\"dataframe\">\n",
       "  <thead>\n",
       "    <tr style=\"text-align: right;\">\n",
       "      <th></th>\n",
       "      <th>AlcaldiaHechos</th>\n",
       "      <th>size</th>\n",
       "    </tr>\n",
       "  </thead>\n",
       "  <tbody>\n",
       "    <tr>\n",
       "      <th>8</th>\n",
       "      <td>IZTAPALAPA</td>\n",
       "      <td>14221</td>\n",
       "    </tr>\n",
       "    <tr>\n",
       "      <th>6</th>\n",
       "      <td>GUSTAVO A MADERO</td>\n",
       "      <td>12859</td>\n",
       "    </tr>\n",
       "    <tr>\n",
       "      <th>5</th>\n",
       "      <td>CUAUHTEMOC</td>\n",
       "      <td>11376</td>\n",
       "    </tr>\n",
       "    <tr>\n",
       "      <th>2</th>\n",
       "      <td>BENITO JUAREZ</td>\n",
       "      <td>7919</td>\n",
       "    </tr>\n",
       "    <tr>\n",
       "      <th>3</th>\n",
       "      <td>COYOACAN</td>\n",
       "      <td>6242</td>\n",
       "    </tr>\n",
       "    <tr>\n",
       "      <th>10</th>\n",
       "      <td>MIGUEL HIDALGO</td>\n",
       "      <td>5391</td>\n",
       "    </tr>\n",
       "    <tr>\n",
       "      <th>14</th>\n",
       "      <td>VENUSTIANO CARRANZA</td>\n",
       "      <td>4842</td>\n",
       "    </tr>\n",
       "    <tr>\n",
       "      <th>7</th>\n",
       "      <td>IZTACALCO</td>\n",
       "      <td>4569</td>\n",
       "    </tr>\n",
       "    <tr>\n",
       "      <th>0</th>\n",
       "      <td>ALVARO OBREGON</td>\n",
       "      <td>4453</td>\n",
       "    </tr>\n",
       "    <tr>\n",
       "      <th>13</th>\n",
       "      <td>TLALPAN</td>\n",
       "      <td>4432</td>\n",
       "    </tr>\n",
       "    <tr>\n",
       "      <th>1</th>\n",
       "      <td>AZCAPOTZALCO</td>\n",
       "      <td>3655</td>\n",
       "    </tr>\n",
       "    <tr>\n",
       "      <th>15</th>\n",
       "      <td>XOCHIMILCO</td>\n",
       "      <td>3118</td>\n",
       "    </tr>\n",
       "    <tr>\n",
       "      <th>12</th>\n",
       "      <td>TLAHUAC</td>\n",
       "      <td>2985</td>\n",
       "    </tr>\n",
       "    <tr>\n",
       "      <th>9</th>\n",
       "      <td>LA MAGDALENA CONTRERAS</td>\n",
       "      <td>1321</td>\n",
       "    </tr>\n",
       "    <tr>\n",
       "      <th>11</th>\n",
       "      <td>MILPA ALTA</td>\n",
       "      <td>729</td>\n",
       "    </tr>\n",
       "    <tr>\n",
       "      <th>4</th>\n",
       "      <td>CUAJIMALPA DE MORELOS</td>\n",
       "      <td>694</td>\n",
       "    </tr>\n",
       "  </tbody>\n",
       "</table>\n",
       "</div>"
      ],
      "text/plain": [
       "            AlcaldiaHechos   size\n",
       "8               IZTAPALAPA  14221\n",
       "6         GUSTAVO A MADERO  12859\n",
       "5               CUAUHTEMOC  11376\n",
       "2            BENITO JUAREZ   7919\n",
       "3                 COYOACAN   6242\n",
       "10          MIGUEL HIDALGO   5391\n",
       "14     VENUSTIANO CARRANZA   4842\n",
       "7                IZTACALCO   4569\n",
       "0           ALVARO OBREGON   4453\n",
       "13                 TLALPAN   4432\n",
       "1             AZCAPOTZALCO   3655\n",
       "15              XOCHIMILCO   3118\n",
       "12                 TLAHUAC   2985\n",
       "9   LA MAGDALENA CONTRERAS   1321\n",
       "11              MILPA ALTA    729\n",
       "4    CUAJIMALPA DE MORELOS    694"
      ]
     },
     "execution_count": 140,
     "metadata": {},
     "output_type": "execute_result"
    }
   ],
   "source": [
    "fecha_alcaldia = df.groupby(['AlcaldiaHechos'],as_index=False).size().sort_values('size',ascending=False)\n",
    "fecha_alcaldia"
   ]
  },
  {
   "cell_type": "markdown",
   "id": "2aadb964",
   "metadata": {},
   "source": [
    "# En la iztapalapa\n",
    "- Por que estuvo mucho tiempo por control de la  delincuencia de union tepito y fuerza anti union  por control de territorio.\n",
    "# En CUAJIMALPA DE MORELOS\n",
    "- es la menos delictiva tiene mayor numero de vigilancia y el narcomenudeo no es representativo de esta delegacion."
   ]
  },
  {
   "cell_type": "markdown",
   "id": "3956b959",
   "metadata": {},
   "source": [
    "# (f) Dentro de cada alcaldia, cuales son las tres colonias con mas delitos"
   ]
  },
  {
   "cell_type": "code",
   "execution_count": 144,
   "id": "2c8b40a6",
   "metadata": {},
   "outputs": [
    {
     "data": {
      "text/html": [
       "<div>\n",
       "<style scoped>\n",
       "    .dataframe tbody tr th:only-of-type {\n",
       "        vertical-align: middle;\n",
       "    }\n",
       "\n",
       "    .dataframe tbody tr th {\n",
       "        vertical-align: top;\n",
       "    }\n",
       "\n",
       "    .dataframe thead th {\n",
       "        text-align: right;\n",
       "    }\n",
       "</style>\n",
       "<table border=\"1\" class=\"dataframe\">\n",
       "  <thead>\n",
       "    <tr style=\"text-align: right;\">\n",
       "      <th></th>\n",
       "      <th>idCarpeta</th>\n",
       "      <th>Año_inicio</th>\n",
       "      <th>Mes_inicio</th>\n",
       "      <th>FechaInicio</th>\n",
       "      <th>Delito</th>\n",
       "      <th>Categoria</th>\n",
       "      <th>Sexo</th>\n",
       "      <th>Edad</th>\n",
       "      <th>TipoPersona</th>\n",
       "      <th>CalidadJuridica</th>\n",
       "      <th>...</th>\n",
       "      <th>Mes_hecho</th>\n",
       "      <th>FechaHecho</th>\n",
       "      <th>HoraHecho</th>\n",
       "      <th>HoraInicio</th>\n",
       "      <th>AlcaldiaHechos</th>\n",
       "      <th>ColoniaHechos</th>\n",
       "      <th>Calle_hechos</th>\n",
       "      <th>Calle_hechos2</th>\n",
       "      <th>latitud</th>\n",
       "      <th>longitud</th>\n",
       "    </tr>\n",
       "  </thead>\n",
       "  <tbody>\n",
       "    <tr>\n",
       "      <th>3</th>\n",
       "      <td>8324435</td>\n",
       "      <td>2019</td>\n",
       "      <td>Enero</td>\n",
       "      <td>04/01/2019</td>\n",
       "      <td>ROBO DE VEHICULO DE SERVICIO PARTICULAR SIN VI...</td>\n",
       "      <td>ROBO DE VEHÍCULO CON Y SIN VIOLENCIA</td>\n",
       "      <td>Masculino</td>\n",
       "      <td>35.0</td>\n",
       "      <td>FISICA</td>\n",
       "      <td>VICTIMA Y DENUNCIANTE</td>\n",
       "      <td>...</td>\n",
       "      <td>Enero</td>\n",
       "      <td>04/01/2019</td>\n",
       "      <td>06:00:00</td>\n",
       "      <td>12:27:00</td>\n",
       "      <td>IZTACALCO</td>\n",
       "      <td>AGRÍCOLA PANTITLAN</td>\n",
       "      <td>CALLE 6</td>\n",
       "      <td>ENTRE PRIVADA DEL VALLE Y PRIVADA GONZALEZ</td>\n",
       "      <td>19.40327</td>\n",
       "      <td>-99.05983</td>\n",
       "    </tr>\n",
       "    <tr>\n",
       "      <th>7</th>\n",
       "      <td>8324451</td>\n",
       "      <td>2019</td>\n",
       "      <td>Enero</td>\n",
       "      <td>04/01/2019</td>\n",
       "      <td>VIOLACION</td>\n",
       "      <td>VIOLACIÓN</td>\n",
       "      <td>Masculino</td>\n",
       "      <td>13.0</td>\n",
       "      <td>FISICA</td>\n",
       "      <td>VICTIMA</td>\n",
       "      <td>...</td>\n",
       "      <td>Diciembre</td>\n",
       "      <td>19/12/2010</td>\n",
       "      <td>03:00:00</td>\n",
       "      <td>12:48:00</td>\n",
       "      <td>GUSTAVO A MADERO</td>\n",
       "      <td>LA CASILDA</td>\n",
       "      <td>CORONA DEL ROSAL</td>\n",
       "      <td>INDETERMINADO</td>\n",
       "      <td>19.55632</td>\n",
       "      <td>-99.12933</td>\n",
       "    </tr>\n",
       "    <tr>\n",
       "      <th>8</th>\n",
       "      <td>8324454</td>\n",
       "      <td>2019</td>\n",
       "      <td>Enero</td>\n",
       "      <td>04/01/2019</td>\n",
       "      <td>PRODUCCIÓN, IMPRESIÓN, ENAJENACIÓN, DISTRIBUCI...</td>\n",
       "      <td>DELITO DE BAJO IMPACTO</td>\n",
       "      <td>Femenino</td>\n",
       "      <td>83.0</td>\n",
       "      <td>FISICA</td>\n",
       "      <td>VICTIMA Y DENUNCIANTE</td>\n",
       "      <td>...</td>\n",
       "      <td>Diciembre</td>\n",
       "      <td>27/12/2018</td>\n",
       "      <td>13:00:00</td>\n",
       "      <td>12:51:00</td>\n",
       "      <td>IZTAPALAPA</td>\n",
       "      <td>BANJIDAL</td>\n",
       "      <td>SUR 69 -A</td>\n",
       "      <td>CALZ. ERMITA IZTAPALAPA</td>\n",
       "      <td>19.35996</td>\n",
       "      <td>-99.13696</td>\n",
       "    </tr>\n",
       "    <tr>\n",
       "      <th>11</th>\n",
       "      <td>8324459</td>\n",
       "      <td>2019</td>\n",
       "      <td>Enero</td>\n",
       "      <td>04/01/2019</td>\n",
       "      <td>ROBO A PASAJERO A BORDO DE PESERO COLECTIVO CO...</td>\n",
       "      <td>ROBO A PASAJERO A BORDO DE MICROBUS CON Y SIN ...</td>\n",
       "      <td>Masculino</td>\n",
       "      <td>27.0</td>\n",
       "      <td>FISICA</td>\n",
       "      <td>VICTIMA Y DENUNCIANTE</td>\n",
       "      <td>...</td>\n",
       "      <td>Enero</td>\n",
       "      <td>04/01/2018</td>\n",
       "      <td>08:30:00</td>\n",
       "      <td>12:53:00</td>\n",
       "      <td>VENUSTIANO CARRANZA</td>\n",
       "      <td>CUCHILLA PANTITLAN</td>\n",
       "      <td>RIO CHURUBUSCO Y CALLE 1</td>\n",
       "      <td>CALLE 1</td>\n",
       "      <td>19.42102</td>\n",
       "      <td>-99.06775</td>\n",
       "    </tr>\n",
       "    <tr>\n",
       "      <th>12</th>\n",
       "      <td>8324465</td>\n",
       "      <td>2019</td>\n",
       "      <td>Enero</td>\n",
       "      <td>04/01/2019</td>\n",
       "      <td>PRODUCCIÓN, IMPRESIÓN, ENAJENACIÓN, DISTRIBUCI...</td>\n",
       "      <td>DELITO DE BAJO IMPACTO</td>\n",
       "      <td>Femenino</td>\n",
       "      <td>58.0</td>\n",
       "      <td>FISICA</td>\n",
       "      <td>VICTIMA Y DENUNCIANTE</td>\n",
       "      <td>...</td>\n",
       "      <td>Diciembre</td>\n",
       "      <td>03/12/2018</td>\n",
       "      <td>14:30:00</td>\n",
       "      <td>12:59:00</td>\n",
       "      <td>GUSTAVO A MADERO</td>\n",
       "      <td>UNIDAD PROFESIONAL ADOLFO LOPEZ MATEOS</td>\n",
       "      <td>AV. OTHON DE MENDIZABAL</td>\n",
       "      <td>MIGUEL BERNARD</td>\n",
       "      <td>19.50959</td>\n",
       "      <td>-99.13985</td>\n",
       "    </tr>\n",
       "  </tbody>\n",
       "</table>\n",
       "<p>5 rows × 22 columns</p>\n",
       "</div>"
      ],
      "text/plain": [
       "    idCarpeta  Año_inicio Mes_inicio FechaInicio  \\\n",
       "3     8324435        2019      Enero  04/01/2019   \n",
       "7     8324451        2019      Enero  04/01/2019   \n",
       "8     8324454        2019      Enero  04/01/2019   \n",
       "11    8324459        2019      Enero  04/01/2019   \n",
       "12    8324465        2019      Enero  04/01/2019   \n",
       "\n",
       "                                               Delito  \\\n",
       "3   ROBO DE VEHICULO DE SERVICIO PARTICULAR SIN VI...   \n",
       "7                                           VIOLACION   \n",
       "8   PRODUCCIÓN, IMPRESIÓN, ENAJENACIÓN, DISTRIBUCI...   \n",
       "11  ROBO A PASAJERO A BORDO DE PESERO COLECTIVO CO...   \n",
       "12  PRODUCCIÓN, IMPRESIÓN, ENAJENACIÓN, DISTRIBUCI...   \n",
       "\n",
       "                                            Categoria       Sexo  Edad  \\\n",
       "3                ROBO DE VEHÍCULO CON Y SIN VIOLENCIA  Masculino  35.0   \n",
       "7                                           VIOLACIÓN  Masculino  13.0   \n",
       "8                              DELITO DE BAJO IMPACTO   Femenino  83.0   \n",
       "11  ROBO A PASAJERO A BORDO DE MICROBUS CON Y SIN ...  Masculino  27.0   \n",
       "12                             DELITO DE BAJO IMPACTO   Femenino  58.0   \n",
       "\n",
       "   TipoPersona        CalidadJuridica  ...  Mes_hecho  FechaHecho HoraHecho  \\\n",
       "3       FISICA  VICTIMA Y DENUNCIANTE  ...      Enero  04/01/2019  06:00:00   \n",
       "7       FISICA                VICTIMA  ...  Diciembre  19/12/2010  03:00:00   \n",
       "8       FISICA  VICTIMA Y DENUNCIANTE  ...  Diciembre  27/12/2018  13:00:00   \n",
       "11      FISICA  VICTIMA Y DENUNCIANTE  ...      Enero  04/01/2018  08:30:00   \n",
       "12      FISICA  VICTIMA Y DENUNCIANTE  ...  Diciembre  03/12/2018  14:30:00   \n",
       "\n",
       "   HoraInicio       AlcaldiaHechos                           ColoniaHechos  \\\n",
       "3    12:27:00            IZTACALCO                      AGRÍCOLA PANTITLAN   \n",
       "7    12:48:00     GUSTAVO A MADERO                              LA CASILDA   \n",
       "8    12:51:00           IZTAPALAPA                                BANJIDAL   \n",
       "11   12:53:00  VENUSTIANO CARRANZA                      CUCHILLA PANTITLAN   \n",
       "12   12:59:00     GUSTAVO A MADERO  UNIDAD PROFESIONAL ADOLFO LOPEZ MATEOS   \n",
       "\n",
       "                Calle_hechos                               Calle_hechos2  \\\n",
       "3                    CALLE 6  ENTRE PRIVADA DEL VALLE Y PRIVADA GONZALEZ   \n",
       "7           CORONA DEL ROSAL                               INDETERMINADO   \n",
       "8                  SUR 69 -A                     CALZ. ERMITA IZTAPALAPA   \n",
       "11  RIO CHURUBUSCO Y CALLE 1                                     CALLE 1   \n",
       "12   AV. OTHON DE MENDIZABAL                              MIGUEL BERNARD   \n",
       "\n",
       "     latitud  longitud  \n",
       "3   19.40327 -99.05983  \n",
       "7   19.55632 -99.12933  \n",
       "8   19.35996 -99.13696  \n",
       "11  19.42102 -99.06775  \n",
       "12  19.50959 -99.13985  \n",
       "\n",
       "[5 rows x 22 columns]"
      ]
     },
     "execution_count": 144,
     "metadata": {},
     "output_type": "execute_result"
    }
   ],
   "source": [
    "df.head()"
   ]
  },
  {
   "cell_type": "code",
   "execution_count": 146,
   "id": "7ea2ca43",
   "metadata": {},
   "outputs": [
    {
     "data": {
      "text/html": [
       "<div>\n",
       "<style scoped>\n",
       "    .dataframe tbody tr th:only-of-type {\n",
       "        vertical-align: middle;\n",
       "    }\n",
       "\n",
       "    .dataframe tbody tr th {\n",
       "        vertical-align: top;\n",
       "    }\n",
       "\n",
       "    .dataframe thead th {\n",
       "        text-align: right;\n",
       "    }\n",
       "</style>\n",
       "<table border=\"1\" class=\"dataframe\">\n",
       "  <thead>\n",
       "    <tr style=\"text-align: right;\">\n",
       "      <th></th>\n",
       "      <th>AlcaldiaHechos</th>\n",
       "      <th>ColoniaHechos</th>\n",
       "      <th>size</th>\n",
       "    </tr>\n",
       "  </thead>\n",
       "  <tbody>\n",
       "    <tr>\n",
       "      <th>550</th>\n",
       "      <td>CUAUHTEMOC</td>\n",
       "      <td>CENTRO</td>\n",
       "      <td>2498</td>\n",
       "    </tr>\n",
       "    <tr>\n",
       "      <th>341</th>\n",
       "      <td>BENITO JUAREZ</td>\n",
       "      <td>DEL VALLE CENTRO</td>\n",
       "      <td>1198</td>\n",
       "    </tr>\n",
       "    <tr>\n",
       "      <th>357</th>\n",
       "      <td>BENITO JUAREZ</td>\n",
       "      <td>NARVARTE</td>\n",
       "      <td>1172</td>\n",
       "    </tr>\n",
       "  </tbody>\n",
       "</table>\n",
       "</div>"
      ],
      "text/plain": [
       "    AlcaldiaHechos     ColoniaHechos  size\n",
       "550     CUAUHTEMOC            CENTRO  2498\n",
       "341  BENITO JUAREZ  DEL VALLE CENTRO  1198\n",
       "357  BENITO JUAREZ          NARVARTE  1172"
      ]
     },
     "execution_count": 146,
     "metadata": {},
     "output_type": "execute_result"
    }
   ],
   "source": [
    "fecha_alcaldia = df.groupby(['AlcaldiaHechos','ColoniaHechos'],as_index=False).size().sort_values('size',ascending=False)\n",
    "fecha_alcaldia.head(3)"
   ]
  },
  {
   "cell_type": "markdown",
   "id": "63515b1b",
   "metadata": {},
   "source": [
    "# (g) ¿Existe alguna tendencia estacional en la ocurrencia de delitos (mes,"
   ]
  },
  {
   "cell_type": "code",
   "execution_count": 147,
   "id": "99eb715f",
   "metadata": {},
   "outputs": [
    {
     "data": {
      "text/plain": [
       "Index(['idCarpeta', 'Año_inicio', 'Mes_inicio', 'FechaInicio', 'Delito',\n",
       "       'Categoria', 'Sexo', 'Edad', 'TipoPersona', 'CalidadJuridica',\n",
       "       'competencia', 'Año_hecho', 'Mes_hecho', 'FechaHecho', 'HoraHecho',\n",
       "       'HoraInicio', 'AlcaldiaHechos', 'ColoniaHechos', 'Calle_hechos',\n",
       "       'Calle_hechos2', 'latitud', 'longitud'],\n",
       "      dtype='object')"
      ]
     },
     "execution_count": 147,
     "metadata": {},
     "output_type": "execute_result"
    }
   ],
   "source": [
    "df.columns"
   ]
  },
  {
   "cell_type": "code",
   "execution_count": 148,
   "id": "612e734d",
   "metadata": {},
   "outputs": [
    {
     "data": {
      "text/html": [
       "<div>\n",
       "<style scoped>\n",
       "    .dataframe tbody tr th:only-of-type {\n",
       "        vertical-align: middle;\n",
       "    }\n",
       "\n",
       "    .dataframe tbody tr th {\n",
       "        vertical-align: top;\n",
       "    }\n",
       "\n",
       "    .dataframe thead th {\n",
       "        text-align: right;\n",
       "    }\n",
       "</style>\n",
       "<table border=\"1\" class=\"dataframe\">\n",
       "  <thead>\n",
       "    <tr style=\"text-align: right;\">\n",
       "      <th></th>\n",
       "      <th>Mes_hecho</th>\n",
       "      <th>Categoria</th>\n",
       "      <th>size</th>\n",
       "    </tr>\n",
       "  </thead>\n",
       "  <tbody>\n",
       "    <tr>\n",
       "      <th>63</th>\n",
       "      <td>Febrero</td>\n",
       "      <td>DELITO DE BAJO IMPACTO</td>\n",
       "      <td>7629</td>\n",
       "    </tr>\n",
       "    <tr>\n",
       "      <th>110</th>\n",
       "      <td>Marzo</td>\n",
       "      <td>DELITO DE BAJO IMPACTO</td>\n",
       "      <td>7544</td>\n",
       "    </tr>\n",
       "    <tr>\n",
       "      <th>47</th>\n",
       "      <td>Enero</td>\n",
       "      <td>DELITO DE BAJO IMPACTO</td>\n",
       "      <td>7294</td>\n",
       "    </tr>\n",
       "    <tr>\n",
       "      <th>126</th>\n",
       "      <td>Mayo</td>\n",
       "      <td>DELITO DE BAJO IMPACTO</td>\n",
       "      <td>6234</td>\n",
       "    </tr>\n",
       "    <tr>\n",
       "      <th>95</th>\n",
       "      <td>Junio</td>\n",
       "      <td>DELITO DE BAJO IMPACTO</td>\n",
       "      <td>6203</td>\n",
       "    </tr>\n",
       "    <tr>\n",
       "      <th>...</th>\n",
       "      <td>...</td>\n",
       "      <td>...</td>\n",
       "      <td>...</td>\n",
       "    </tr>\n",
       "    <tr>\n",
       "      <th>77</th>\n",
       "      <td>Febrero</td>\n",
       "      <td>SECUESTRO</td>\n",
       "      <td>1</td>\n",
       "    </tr>\n",
       "    <tr>\n",
       "      <th>75</th>\n",
       "      <td>Febrero</td>\n",
       "      <td>ROBO A TRANSPORTISTA CON Y SIN VIOLENCIA</td>\n",
       "      <td>1</td>\n",
       "    </tr>\n",
       "    <tr>\n",
       "      <th>93</th>\n",
       "      <td>Julio</td>\n",
       "      <td>SECUESTRO</td>\n",
       "      <td>1</td>\n",
       "    </tr>\n",
       "    <tr>\n",
       "      <th>44</th>\n",
       "      <td>Diciembre</td>\n",
       "      <td>ROBO A TRANSPORTISTA CON Y SIN VIOLENCIA</td>\n",
       "      <td>1</td>\n",
       "    </tr>\n",
       "    <tr>\n",
       "      <th>140</th>\n",
       "      <td>Mayo</td>\n",
       "      <td>SECUESTRO</td>\n",
       "      <td>1</td>\n",
       "    </tr>\n",
       "  </tbody>\n",
       "</table>\n",
       "<p>188 rows × 3 columns</p>\n",
       "</div>"
      ],
      "text/plain": [
       "     Mes_hecho                                 Categoria  size\n",
       "63     Febrero                    DELITO DE BAJO IMPACTO  7629\n",
       "110      Marzo                    DELITO DE BAJO IMPACTO  7544\n",
       "47       Enero                    DELITO DE BAJO IMPACTO  7294\n",
       "126       Mayo                    DELITO DE BAJO IMPACTO  6234\n",
       "95       Junio                    DELITO DE BAJO IMPACTO  6203\n",
       "..         ...                                       ...   ...\n",
       "77     Febrero                                 SECUESTRO     1\n",
       "75     Febrero  ROBO A TRANSPORTISTA CON Y SIN VIOLENCIA     1\n",
       "93       Julio                                 SECUESTRO     1\n",
       "44   Diciembre  ROBO A TRANSPORTISTA CON Y SIN VIOLENCIA     1\n",
       "140       Mayo                                 SECUESTRO     1\n",
       "\n",
       "[188 rows x 3 columns]"
      ]
     },
     "execution_count": 148,
     "metadata": {},
     "output_type": "execute_result"
    }
   ],
   "source": [
    "import matplotlib.pyplot as plt\n",
    "ocurrencia_fecha = df.groupby(['Mes_hecho','Categoria'],as_index=False).size().sort_values('size',ascending=False)\n",
    "ocurrencia_fecha"
   ]
  },
  {
   "cell_type": "code",
   "execution_count": 188,
   "id": "e3a189cf",
   "metadata": {},
   "outputs": [
    {
     "data": {
      "image/png": "[encoded data removed]",
      "text/plain": [
       "<Figure size 432x288 with 1 Axes>"
      ]
     },
     "metadata": {
      "needs_background": "light"
     },
     "output_type": "display_data"
    }
   ],
   "source": [
    "mes=df['Mes_hecho']\n",
    "delito=df['Categoria']\n",
    "plt.hist((mes) , bins=50)\n",
    "plt.show()\n",
    "#plt.xticks(mes)"
   ]
  },
  {
   "cell_type": "markdown",
   "id": "3b042b74",
   "metadata": {},
   "source": [
    "### En el mes de febrero es donde ocurren mas violencia."
   ]
  }
 ],
 "metadata": {
  "kernelspec": {
   "display_name": "Python 3",
   "language": "python",
   "name": "python3"
  },
  "language_info": {
   "codemirror_mode": {
    "name": "ipython",
    "version": 3
   },
   "file_extension": ".py",
   "mimetype": "text/x-python",
   "name": "python",
   "nbconvert_exporter": "python",
   "pygments_lexer": "ipython3",
   "version": "3.8.8"
  }
 },
 "nbformat": 4,
 "nbformat_minor": 5
}
